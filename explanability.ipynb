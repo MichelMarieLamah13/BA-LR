{
 "cells": [
  {
   "cell_type": "code",
   "execution_count": 39,
   "outputs": [],
   "source": [
    "import pandas as pd"
   ],
   "metadata": {
    "collapsed": false,
    "ExecuteTime": {
     "end_time": "2023-11-29T13:09:08.499317287Z",
     "start_time": "2023-11-29T13:09:08.488354653Z"
    }
   }
  },
  {
   "cell_type": "code",
   "execution_count": 40,
   "metadata": {
    "collapsed": true,
    "ExecuteTime": {
     "end_time": "2023-11-29T13:09:10.309546177Z",
     "start_time": "2023-11-29T13:09:10.306351193Z"
    }
   },
   "outputs": [],
   "source": [
    "path = 'data/vox1_opensmile.csv'"
   ]
  },
  {
   "cell_type": "code",
   "execution_count": 60,
   "outputs": [],
   "source": [
    "features_vox1 = pd.read_csv(path)"
   ],
   "metadata": {
    "collapsed": false,
    "ExecuteTime": {
     "end_time": "2023-11-29T13:14:47.063872107Z",
     "start_time": "2023-11-29T13:14:45.510003212Z"
    }
   }
  },
  {
   "cell_type": "code",
   "execution_count": 61,
   "outputs": [
    {
     "data": {
      "text/plain": "                                                     name  \\\n0       /local_disk/arges/jduret/corpus/voxceleb1/dev/...   \n1       /local_disk/arges/jduret/corpus/voxceleb1/dev/...   \n2       /local_disk/arges/jduret/corpus/voxceleb1/dev/...   \n3       /local_disk/arges/jduret/corpus/voxceleb1/dev/...   \n4       /local_disk/arges/jduret/corpus/voxceleb1/dev/...   \n...                                                   ...   \n153511  /local_disk/arges/jduret/corpus/voxceleb1/dev/...   \n153512  /local_disk/arges/jduret/corpus/voxceleb1/dev/...   \n153513  /local_disk/arges/jduret/corpus/voxceleb1/dev/...   \n153514  /local_disk/arges/jduret/corpus/voxceleb1/dev/...   \n153515  /local_disk/arges/jduret/corpus/voxceleb1/dev/...   \n\n        F0semitoneFrom27.5Hz_sma3nz_amean  \\\n0                               28.092182   \n1                               27.010643   \n2                               26.186111   \n3                               27.494238   \n4                               27.532742   \n...                                   ...   \n153511                          35.983295   \n153512                          35.834940   \n153513                          35.626750   \n153514                          35.601270   \n153515                          37.650562   \n\n        F0semitoneFrom27.5Hz_sma3nz_stddevNorm  \\\n0                                     0.061502   \n1                                     0.060816   \n2                                     0.070707   \n3                                     0.095222   \n4                                     0.136942   \n...                                        ...   \n153511                                0.079570   \n153512                                0.071941   \n153513                                0.097107   \n153514                                0.094351   \n153515                                0.071268   \n\n        F0semitoneFrom27.5Hz_sma3nz_percentile20.0  \\\n0                                        26.984283   \n1                                        25.892637   \n2                                        24.654234   \n3                                        25.322489   \n4                                        24.791954   \n...                                            ...   \n153511                                   35.261246   \n153512                                   34.103096   \n153513                                   34.519497   \n153514                                   34.675518   \n153515                                   36.116264   \n\n        F0semitoneFrom27.5Hz_sma3nz_percentile50.0  \\\n0                                        27.878792   \n1                                        26.687866   \n2                                        26.461887   \n3                                        27.320807   \n4                                        26.543228   \n...                                            ...   \n153511                                   36.059746   \n153512                                   35.820920   \n153513                                   36.001860   \n153514                                   35.890700   \n153515                                   37.267452   \n\n        F0semitoneFrom27.5Hz_sma3nz_percentile80.0  \\\n0                                        28.929113   \n1                                        28.496979   \n2                                        27.661386   \n3                                        29.987375   \n4                                        30.337467   \n...                                            ...   \n153511                                   37.383686   \n153512                                   38.033993   \n153513                                   37.658546   \n153514                                   37.325825   \n153515                                   38.921696   \n\n        F0semitoneFrom27.5Hz_sma3nz_pctlrange0-2  \\\n0                                       1.944830   \n1                                       2.604341   \n2                                       3.007153   \n3                                       4.664886   \n4                                       5.545513   \n...                                          ...   \n153511                                  2.122440   \n153512                                  3.930897   \n153513                                  3.139050   \n153514                                  2.650307   \n153515                                  2.805431   \n\n        F0semitoneFrom27.5Hz_sma3nz_meanRisingSlope  \\\n0                                        105.241852   \n1                                        116.249120   \n2                                        138.503590   \n3                                        152.163700   \n4                                         32.876427   \n...                                             ...   \n153511                                   100.465480   \n153512                                    43.523434   \n153513                                   589.591250   \n153514                                   230.316910   \n153515                                    49.253586   \n\n        F0semitoneFrom27.5Hz_sma3nz_stddevRisingSlope  \\\n0                                          112.295776   \n1                                          262.780430   \n2                                          150.486820   \n3                                          185.322500   \n4                                           22.981077   \n...                                               ...   \n153511                                     111.612870   \n153512                                      29.977058   \n153513                                     656.120100   \n153514                                     369.327940   \n153515                                      69.904710   \n\n        F0semitoneFrom27.5Hz_sma3nz_meanFallingSlope  ...  \\\n0                                          19.984245  ...   \n1                                          14.721849  ...   \n2                                          21.725597  ...   \n3                                          22.155361  ...   \n4                                          20.236912  ...   \n...                                              ...  ...   \n153511                                     39.786926  ...   \n153512                                     23.850680  ...   \n153513                                     38.031950  ...   \n153514                                    106.101290  ...   \n153515                                     46.053300  ...   \n\n        slopeUV0-500_sma3nz_amean  slopeUV500-1500_sma3nz_amean  \\\n0                        0.034317                     -0.012570   \n1                        0.031585                     -0.012621   \n2                        0.021272                     -0.009637   \n3                        0.010894                      0.002566   \n4                        0.013177                     -0.002150   \n...                           ...                           ...   \n153511                   0.016626                     -0.003108   \n153512                   0.015389                     -0.000337   \n153513                   0.015281                     -0.003239   \n153514                   0.016454                     -0.004991   \n153515                   0.021290                     -0.009509   \n\n        spectralFluxUV_sma3nz_amean  loudnessPeaksPerSec  \\\n0                          0.370522             5.178792   \n1                          0.323391             4.561403   \n2                          0.365133             5.187836   \n3                          0.137623             5.098494   \n4                          0.146955             4.537815   \n...                             ...                  ...   \n153511                     0.099633             4.477612   \n153512                     0.076410             3.748327   \n153513                     0.069800             3.525047   \n153514                     0.081630             3.828941   \n153515                     0.109392             4.783599   \n\n        VoicedSegmentsPerSec  MeanVoicedSegmentLengthSec  \\\n0                   3.473946                    0.163571   \n1                   2.237927                    0.319474   \n2                   3.429603                    0.166316   \n3                   2.917153                    0.187200   \n4                   3.565365                    0.167619   \n...                      ...                         ...   \n153511              3.691275                    0.151818   \n153512              2.560647                    0.185263   \n153513              2.808989                    0.196667   \n153514              2.642074                    0.227547   \n153515              3.695150                    0.151250   \n\n        StddevVoicedSegmentLengthSec  MeanUnvoicedSegmentLength  \\\n0                           0.134887                   0.103571   \n1                           0.322906                   0.120000   \n2                           0.108977                   0.104211   \n3                           0.116534                   0.141667   \n4                           0.128319                   0.098000   \n...                              ...                        ...   \n153511                      0.126046                   0.125294   \n153512                      0.097677                   0.184211   \n153513                      0.103966                   0.148571   \n153514                      0.183065                   0.140408   \n153515                      0.109137                   0.106667   \n\n        StddevUnvoicedSegmentLength  equivalentSoundLevel_dBp  \n0                          0.084440                -21.141186  \n1                          0.082248                -19.915205  \n2                          0.068080                -21.199615  \n3                          0.136646                -27.372116  \n4                          0.052593                -27.439383  \n...                             ...                       ...  \n153511                     0.112151                -30.256577  \n153512                     0.180622                -31.595581  \n153513                     0.129110                -31.728613  \n153514                     0.110120                -31.206898  \n153515                     0.064256                -30.089382  \n\n[153516 rows x 89 columns]",
      "text/html": "<div>\n<style scoped>\n    .dataframe tbody tr th:only-of-type {\n        vertical-align: middle;\n    }\n\n    .dataframe tbody tr th {\n        vertical-align: top;\n    }\n\n    .dataframe thead th {\n        text-align: right;\n    }\n</style>\n<table border=\"1\" class=\"dataframe\">\n  <thead>\n    <tr style=\"text-align: right;\">\n      <th></th>\n      <th>name</th>\n      <th>F0semitoneFrom27.5Hz_sma3nz_amean</th>\n      <th>F0semitoneFrom27.5Hz_sma3nz_stddevNorm</th>\n      <th>F0semitoneFrom27.5Hz_sma3nz_percentile20.0</th>\n      <th>F0semitoneFrom27.5Hz_sma3nz_percentile50.0</th>\n      <th>F0semitoneFrom27.5Hz_sma3nz_percentile80.0</th>\n      <th>F0semitoneFrom27.5Hz_sma3nz_pctlrange0-2</th>\n      <th>F0semitoneFrom27.5Hz_sma3nz_meanRisingSlope</th>\n      <th>F0semitoneFrom27.5Hz_sma3nz_stddevRisingSlope</th>\n      <th>F0semitoneFrom27.5Hz_sma3nz_meanFallingSlope</th>\n      <th>...</th>\n      <th>slopeUV0-500_sma3nz_amean</th>\n      <th>slopeUV500-1500_sma3nz_amean</th>\n      <th>spectralFluxUV_sma3nz_amean</th>\n      <th>loudnessPeaksPerSec</th>\n      <th>VoicedSegmentsPerSec</th>\n      <th>MeanVoicedSegmentLengthSec</th>\n      <th>StddevVoicedSegmentLengthSec</th>\n      <th>MeanUnvoicedSegmentLength</th>\n      <th>StddevUnvoicedSegmentLength</th>\n      <th>equivalentSoundLevel_dBp</th>\n    </tr>\n  </thead>\n  <tbody>\n    <tr>\n      <th>0</th>\n      <td>/local_disk/arges/jduret/corpus/voxceleb1/dev/...</td>\n      <td>28.092182</td>\n      <td>0.061502</td>\n      <td>26.984283</td>\n      <td>27.878792</td>\n      <td>28.929113</td>\n      <td>1.944830</td>\n      <td>105.241852</td>\n      <td>112.295776</td>\n      <td>19.984245</td>\n      <td>...</td>\n      <td>0.034317</td>\n      <td>-0.012570</td>\n      <td>0.370522</td>\n      <td>5.178792</td>\n      <td>3.473946</td>\n      <td>0.163571</td>\n      <td>0.134887</td>\n      <td>0.103571</td>\n      <td>0.084440</td>\n      <td>-21.141186</td>\n    </tr>\n    <tr>\n      <th>1</th>\n      <td>/local_disk/arges/jduret/corpus/voxceleb1/dev/...</td>\n      <td>27.010643</td>\n      <td>0.060816</td>\n      <td>25.892637</td>\n      <td>26.687866</td>\n      <td>28.496979</td>\n      <td>2.604341</td>\n      <td>116.249120</td>\n      <td>262.780430</td>\n      <td>14.721849</td>\n      <td>...</td>\n      <td>0.031585</td>\n      <td>-0.012621</td>\n      <td>0.323391</td>\n      <td>4.561403</td>\n      <td>2.237927</td>\n      <td>0.319474</td>\n      <td>0.322906</td>\n      <td>0.120000</td>\n      <td>0.082248</td>\n      <td>-19.915205</td>\n    </tr>\n    <tr>\n      <th>2</th>\n      <td>/local_disk/arges/jduret/corpus/voxceleb1/dev/...</td>\n      <td>26.186111</td>\n      <td>0.070707</td>\n      <td>24.654234</td>\n      <td>26.461887</td>\n      <td>27.661386</td>\n      <td>3.007153</td>\n      <td>138.503590</td>\n      <td>150.486820</td>\n      <td>21.725597</td>\n      <td>...</td>\n      <td>0.021272</td>\n      <td>-0.009637</td>\n      <td>0.365133</td>\n      <td>5.187836</td>\n      <td>3.429603</td>\n      <td>0.166316</td>\n      <td>0.108977</td>\n      <td>0.104211</td>\n      <td>0.068080</td>\n      <td>-21.199615</td>\n    </tr>\n    <tr>\n      <th>3</th>\n      <td>/local_disk/arges/jduret/corpus/voxceleb1/dev/...</td>\n      <td>27.494238</td>\n      <td>0.095222</td>\n      <td>25.322489</td>\n      <td>27.320807</td>\n      <td>29.987375</td>\n      <td>4.664886</td>\n      <td>152.163700</td>\n      <td>185.322500</td>\n      <td>22.155361</td>\n      <td>...</td>\n      <td>0.010894</td>\n      <td>0.002566</td>\n      <td>0.137623</td>\n      <td>5.098494</td>\n      <td>2.917153</td>\n      <td>0.187200</td>\n      <td>0.116534</td>\n      <td>0.141667</td>\n      <td>0.136646</td>\n      <td>-27.372116</td>\n    </tr>\n    <tr>\n      <th>4</th>\n      <td>/local_disk/arges/jduret/corpus/voxceleb1/dev/...</td>\n      <td>27.532742</td>\n      <td>0.136942</td>\n      <td>24.791954</td>\n      <td>26.543228</td>\n      <td>30.337467</td>\n      <td>5.545513</td>\n      <td>32.876427</td>\n      <td>22.981077</td>\n      <td>20.236912</td>\n      <td>...</td>\n      <td>0.013177</td>\n      <td>-0.002150</td>\n      <td>0.146955</td>\n      <td>4.537815</td>\n      <td>3.565365</td>\n      <td>0.167619</td>\n      <td>0.128319</td>\n      <td>0.098000</td>\n      <td>0.052593</td>\n      <td>-27.439383</td>\n    </tr>\n    <tr>\n      <th>...</th>\n      <td>...</td>\n      <td>...</td>\n      <td>...</td>\n      <td>...</td>\n      <td>...</td>\n      <td>...</td>\n      <td>...</td>\n      <td>...</td>\n      <td>...</td>\n      <td>...</td>\n      <td>...</td>\n      <td>...</td>\n      <td>...</td>\n      <td>...</td>\n      <td>...</td>\n      <td>...</td>\n      <td>...</td>\n      <td>...</td>\n      <td>...</td>\n      <td>...</td>\n      <td>...</td>\n    </tr>\n    <tr>\n      <th>153511</th>\n      <td>/local_disk/arges/jduret/corpus/voxceleb1/dev/...</td>\n      <td>35.983295</td>\n      <td>0.079570</td>\n      <td>35.261246</td>\n      <td>36.059746</td>\n      <td>37.383686</td>\n      <td>2.122440</td>\n      <td>100.465480</td>\n      <td>111.612870</td>\n      <td>39.786926</td>\n      <td>...</td>\n      <td>0.016626</td>\n      <td>-0.003108</td>\n      <td>0.099633</td>\n      <td>4.477612</td>\n      <td>3.691275</td>\n      <td>0.151818</td>\n      <td>0.126046</td>\n      <td>0.125294</td>\n      <td>0.112151</td>\n      <td>-30.256577</td>\n    </tr>\n    <tr>\n      <th>153512</th>\n      <td>/local_disk/arges/jduret/corpus/voxceleb1/dev/...</td>\n      <td>35.834940</td>\n      <td>0.071941</td>\n      <td>34.103096</td>\n      <td>35.820920</td>\n      <td>38.033993</td>\n      <td>3.930897</td>\n      <td>43.523434</td>\n      <td>29.977058</td>\n      <td>23.850680</td>\n      <td>...</td>\n      <td>0.015389</td>\n      <td>-0.000337</td>\n      <td>0.076410</td>\n      <td>3.748327</td>\n      <td>2.560647</td>\n      <td>0.185263</td>\n      <td>0.097677</td>\n      <td>0.184211</td>\n      <td>0.180622</td>\n      <td>-31.595581</td>\n    </tr>\n    <tr>\n      <th>153513</th>\n      <td>/local_disk/arges/jduret/corpus/voxceleb1/dev/...</td>\n      <td>35.626750</td>\n      <td>0.097107</td>\n      <td>34.519497</td>\n      <td>36.001860</td>\n      <td>37.658546</td>\n      <td>3.139050</td>\n      <td>589.591250</td>\n      <td>656.120100</td>\n      <td>38.031950</td>\n      <td>...</td>\n      <td>0.015281</td>\n      <td>-0.003239</td>\n      <td>0.069800</td>\n      <td>3.525047</td>\n      <td>2.808989</td>\n      <td>0.196667</td>\n      <td>0.103966</td>\n      <td>0.148571</td>\n      <td>0.129110</td>\n      <td>-31.728613</td>\n    </tr>\n    <tr>\n      <th>153514</th>\n      <td>/local_disk/arges/jduret/corpus/voxceleb1/dev/...</td>\n      <td>35.601270</td>\n      <td>0.094351</td>\n      <td>34.675518</td>\n      <td>35.890700</td>\n      <td>37.325825</td>\n      <td>2.650307</td>\n      <td>230.316910</td>\n      <td>369.327940</td>\n      <td>106.101290</td>\n      <td>...</td>\n      <td>0.016454</td>\n      <td>-0.004991</td>\n      <td>0.081630</td>\n      <td>3.828941</td>\n      <td>2.642074</td>\n      <td>0.227547</td>\n      <td>0.183065</td>\n      <td>0.140408</td>\n      <td>0.110120</td>\n      <td>-31.206898</td>\n    </tr>\n    <tr>\n      <th>153515</th>\n      <td>/local_disk/arges/jduret/corpus/voxceleb1/dev/...</td>\n      <td>37.650562</td>\n      <td>0.071268</td>\n      <td>36.116264</td>\n      <td>37.267452</td>\n      <td>38.921696</td>\n      <td>2.805431</td>\n      <td>49.253586</td>\n      <td>69.904710</td>\n      <td>46.053300</td>\n      <td>...</td>\n      <td>0.021290</td>\n      <td>-0.009509</td>\n      <td>0.109392</td>\n      <td>4.783599</td>\n      <td>3.695150</td>\n      <td>0.151250</td>\n      <td>0.109137</td>\n      <td>0.106667</td>\n      <td>0.064256</td>\n      <td>-30.089382</td>\n    </tr>\n  </tbody>\n</table>\n<p>153516 rows × 89 columns</p>\n</div>"
     },
     "execution_count": 61,
     "metadata": {},
     "output_type": "execute_result"
    }
   ],
   "source": [
    "features_vox1"
   ],
   "metadata": {
    "collapsed": false,
    "ExecuteTime": {
     "end_time": "2023-11-29T13:14:48.082096085Z",
     "start_time": "2023-11-29T13:14:48.004321070Z"
    }
   }
  },
  {
   "cell_type": "code",
   "execution_count": 62,
   "outputs": [
    {
     "data": {
      "text/plain": "Index(['name', 'F0semitoneFrom27.5Hz_sma3nz_amean',\n       'F0semitoneFrom27.5Hz_sma3nz_stddevNorm',\n       'F0semitoneFrom27.5Hz_sma3nz_percentile20.0',\n       'F0semitoneFrom27.5Hz_sma3nz_percentile50.0',\n       'F0semitoneFrom27.5Hz_sma3nz_percentile80.0',\n       'F0semitoneFrom27.5Hz_sma3nz_pctlrange0-2',\n       'F0semitoneFrom27.5Hz_sma3nz_meanRisingSlope',\n       'F0semitoneFrom27.5Hz_sma3nz_stddevRisingSlope',\n       'F0semitoneFrom27.5Hz_sma3nz_meanFallingSlope',\n       'F0semitoneFrom27.5Hz_sma3nz_stddevFallingSlope', 'loudness_sma3_amean',\n       'loudness_sma3_stddevNorm', 'loudness_sma3_percentile20.0',\n       'loudness_sma3_percentile50.0', 'loudness_sma3_percentile80.0',\n       'loudness_sma3_pctlrange0-2', 'loudness_sma3_meanRisingSlope',\n       'loudness_sma3_stddevRisingSlope', 'loudness_sma3_meanFallingSlope',\n       'loudness_sma3_stddevFallingSlope', 'spectralFlux_sma3_amean',\n       'spectralFlux_sma3_stddevNorm', 'mfcc1_sma3_amean',\n       'mfcc1_sma3_stddevNorm', 'mfcc2_sma3_amean', 'mfcc2_sma3_stddevNorm',\n       'mfcc3_sma3_amean', 'mfcc3_sma3_stddevNorm', 'mfcc4_sma3_amean',\n       'mfcc4_sma3_stddevNorm', 'jitterLocal_sma3nz_amean',\n       'jitterLocal_sma3nz_stddevNorm', 'shimmerLocaldB_sma3nz_amean',\n       'shimmerLocaldB_sma3nz_stddevNorm', 'HNRdBACF_sma3nz_amean',\n       'HNRdBACF_sma3nz_stddevNorm', 'logRelF0-H1-H2_sma3nz_amean',\n       'logRelF0-H1-H2_sma3nz_stddevNorm', 'logRelF0-H1-A3_sma3nz_amean',\n       'logRelF0-H1-A3_sma3nz_stddevNorm', 'F1frequency_sma3nz_amean',\n       'F1frequency_sma3nz_stddevNorm', 'F1bandwidth_sma3nz_amean',\n       'F1bandwidth_sma3nz_stddevNorm', 'F1amplitudeLogRelF0_sma3nz_amean',\n       'F1amplitudeLogRelF0_sma3nz_stddevNorm', 'F2frequency_sma3nz_amean',\n       'F2frequency_sma3nz_stddevNorm', 'F2bandwidth_sma3nz_amean',\n       'F2bandwidth_sma3nz_stddevNorm', 'F2amplitudeLogRelF0_sma3nz_amean',\n       'F2amplitudeLogRelF0_sma3nz_stddevNorm', 'F3frequency_sma3nz_amean',\n       'F3frequency_sma3nz_stddevNorm', 'F3bandwidth_sma3nz_amean',\n       'F3bandwidth_sma3nz_stddevNorm', 'F3amplitudeLogRelF0_sma3nz_amean',\n       'F3amplitudeLogRelF0_sma3nz_stddevNorm', 'alphaRatioV_sma3nz_amean',\n       'alphaRatioV_sma3nz_stddevNorm', 'hammarbergIndexV_sma3nz_amean',\n       'hammarbergIndexV_sma3nz_stddevNorm', 'slopeV0-500_sma3nz_amean',\n       'slopeV0-500_sma3nz_stddevNorm', 'slopeV500-1500_sma3nz_amean',\n       'slopeV500-1500_sma3nz_stddevNorm', 'spectralFluxV_sma3nz_amean',\n       'spectralFluxV_sma3nz_stddevNorm', 'mfcc1V_sma3nz_amean',\n       'mfcc1V_sma3nz_stddevNorm', 'mfcc2V_sma3nz_amean',\n       'mfcc2V_sma3nz_stddevNorm', 'mfcc3V_sma3nz_amean',\n       'mfcc3V_sma3nz_stddevNorm', 'mfcc4V_sma3nz_amean',\n       'mfcc4V_sma3nz_stddevNorm', 'alphaRatioUV_sma3nz_amean',\n       'hammarbergIndexUV_sma3nz_amean', 'slopeUV0-500_sma3nz_amean',\n       'slopeUV500-1500_sma3nz_amean', 'spectralFluxUV_sma3nz_amean',\n       'loudnessPeaksPerSec', 'VoicedSegmentsPerSec',\n       'MeanVoicedSegmentLengthSec', 'StddevVoicedSegmentLengthSec',\n       'MeanUnvoicedSegmentLength', 'StddevUnvoicedSegmentLength',\n       'equivalentSoundLevel_dBp'],\n      dtype='object')"
     },
     "execution_count": 62,
     "metadata": {},
     "output_type": "execute_result"
    }
   ],
   "source": [
    "features_vox1.columns"
   ],
   "metadata": {
    "collapsed": false,
    "ExecuteTime": {
     "end_time": "2023-11-29T13:14:53.621492767Z",
     "start_time": "2023-11-29T13:14:53.617748663Z"
    }
   }
  },
  {
   "cell_type": "code",
   "execution_count": 63,
   "outputs": [],
   "source": [
    "attribute_names = features_vox1.columns[1:].tolist()"
   ],
   "metadata": {
    "collapsed": false,
    "ExecuteTime": {
     "end_time": "2023-11-29T13:15:05.697399918Z",
     "start_time": "2023-11-29T13:15:05.685640892Z"
    }
   }
  },
  {
   "cell_type": "code",
   "execution_count": 64,
   "outputs": [
    {
     "data": {
      "text/plain": "['F0semitoneFrom27.5Hz_sma3nz_amean',\n 'F0semitoneFrom27.5Hz_sma3nz_stddevNorm',\n 'F0semitoneFrom27.5Hz_sma3nz_percentile20.0',\n 'F0semitoneFrom27.5Hz_sma3nz_percentile50.0',\n 'F0semitoneFrom27.5Hz_sma3nz_percentile80.0',\n 'F0semitoneFrom27.5Hz_sma3nz_pctlrange0-2',\n 'F0semitoneFrom27.5Hz_sma3nz_meanRisingSlope',\n 'F0semitoneFrom27.5Hz_sma3nz_stddevRisingSlope',\n 'F0semitoneFrom27.5Hz_sma3nz_meanFallingSlope',\n 'F0semitoneFrom27.5Hz_sma3nz_stddevFallingSlope',\n 'loudness_sma3_amean',\n 'loudness_sma3_stddevNorm',\n 'loudness_sma3_percentile20.0',\n 'loudness_sma3_percentile50.0',\n 'loudness_sma3_percentile80.0',\n 'loudness_sma3_pctlrange0-2',\n 'loudness_sma3_meanRisingSlope',\n 'loudness_sma3_stddevRisingSlope',\n 'loudness_sma3_meanFallingSlope',\n 'loudness_sma3_stddevFallingSlope',\n 'spectralFlux_sma3_amean',\n 'spectralFlux_sma3_stddevNorm',\n 'mfcc1_sma3_amean',\n 'mfcc1_sma3_stddevNorm',\n 'mfcc2_sma3_amean',\n 'mfcc2_sma3_stddevNorm',\n 'mfcc3_sma3_amean',\n 'mfcc3_sma3_stddevNorm',\n 'mfcc4_sma3_amean',\n 'mfcc4_sma3_stddevNorm',\n 'jitterLocal_sma3nz_amean',\n 'jitterLocal_sma3nz_stddevNorm',\n 'shimmerLocaldB_sma3nz_amean',\n 'shimmerLocaldB_sma3nz_stddevNorm',\n 'HNRdBACF_sma3nz_amean',\n 'HNRdBACF_sma3nz_stddevNorm',\n 'logRelF0-H1-H2_sma3nz_amean',\n 'logRelF0-H1-H2_sma3nz_stddevNorm',\n 'logRelF0-H1-A3_sma3nz_amean',\n 'logRelF0-H1-A3_sma3nz_stddevNorm',\n 'F1frequency_sma3nz_amean',\n 'F1frequency_sma3nz_stddevNorm',\n 'F1bandwidth_sma3nz_amean',\n 'F1bandwidth_sma3nz_stddevNorm',\n 'F1amplitudeLogRelF0_sma3nz_amean',\n 'F1amplitudeLogRelF0_sma3nz_stddevNorm',\n 'F2frequency_sma3nz_amean',\n 'F2frequency_sma3nz_stddevNorm',\n 'F2bandwidth_sma3nz_amean',\n 'F2bandwidth_sma3nz_stddevNorm',\n 'F2amplitudeLogRelF0_sma3nz_amean',\n 'F2amplitudeLogRelF0_sma3nz_stddevNorm',\n 'F3frequency_sma3nz_amean',\n 'F3frequency_sma3nz_stddevNorm',\n 'F3bandwidth_sma3nz_amean',\n 'F3bandwidth_sma3nz_stddevNorm',\n 'F3amplitudeLogRelF0_sma3nz_amean',\n 'F3amplitudeLogRelF0_sma3nz_stddevNorm',\n 'alphaRatioV_sma3nz_amean',\n 'alphaRatioV_sma3nz_stddevNorm',\n 'hammarbergIndexV_sma3nz_amean',\n 'hammarbergIndexV_sma3nz_stddevNorm',\n 'slopeV0-500_sma3nz_amean',\n 'slopeV0-500_sma3nz_stddevNorm',\n 'slopeV500-1500_sma3nz_amean',\n 'slopeV500-1500_sma3nz_stddevNorm',\n 'spectralFluxV_sma3nz_amean',\n 'spectralFluxV_sma3nz_stddevNorm',\n 'mfcc1V_sma3nz_amean',\n 'mfcc1V_sma3nz_stddevNorm',\n 'mfcc2V_sma3nz_amean',\n 'mfcc2V_sma3nz_stddevNorm',\n 'mfcc3V_sma3nz_amean',\n 'mfcc3V_sma3nz_stddevNorm',\n 'mfcc4V_sma3nz_amean',\n 'mfcc4V_sma3nz_stddevNorm',\n 'alphaRatioUV_sma3nz_amean',\n 'hammarbergIndexUV_sma3nz_amean',\n 'slopeUV0-500_sma3nz_amean',\n 'slopeUV500-1500_sma3nz_amean',\n 'spectralFluxUV_sma3nz_amean',\n 'loudnessPeaksPerSec',\n 'VoicedSegmentsPerSec',\n 'MeanVoicedSegmentLengthSec',\n 'StddevVoicedSegmentLengthSec',\n 'MeanUnvoicedSegmentLength',\n 'StddevUnvoicedSegmentLength',\n 'equivalentSoundLevel_dBp']"
     },
     "execution_count": 64,
     "metadata": {},
     "output_type": "execute_result"
    }
   ],
   "source": [
    "attribute_names"
   ],
   "metadata": {
    "collapsed": false,
    "ExecuteTime": {
     "end_time": "2023-11-29T13:15:07.913137763Z",
     "start_time": "2023-11-29T13:15:07.908893727Z"
    }
   }
  },
  {
   "cell_type": "code",
   "execution_count": 65,
   "outputs": [
    {
     "data": {
      "text/plain": "88"
     },
     "execution_count": 65,
     "metadata": {},
     "output_type": "execute_result"
    }
   ],
   "source": [
    "len(attribute_names)"
   ],
   "metadata": {
    "collapsed": false,
    "ExecuteTime": {
     "end_time": "2023-11-29T13:15:10.199399623Z",
     "start_time": "2023-11-29T13:15:10.195138541Z"
    }
   }
  },
  {
   "cell_type": "code",
   "execution_count": 66,
   "outputs": [
    {
     "data": {
      "text/plain": "array(['/local_disk/arges/jduret/corpus/voxceleb1/dev/wav/id10001/1zcIwhmdeo4/00001.wav',\n       '/local_disk/arges/jduret/corpus/voxceleb1/dev/wav/id10001/1zcIwhmdeo4/00002.wav',\n       '/local_disk/arges/jduret/corpus/voxceleb1/dev/wav/id10001/1zcIwhmdeo4/00003.wav',\n       '/local_disk/arges/jduret/corpus/voxceleb1/dev/wav/id10001/7gWzIy6yIIk/00001.wav',\n       '/local_disk/arges/jduret/corpus/voxceleb1/dev/wav/id10001/7gWzIy6yIIk/00002.wav'],\n      dtype=object)"
     },
     "execution_count": 66,
     "metadata": {},
     "output_type": "execute_result"
    }
   ],
   "source": [
    "features_vox1.head(5)['name'].values"
   ],
   "metadata": {
    "collapsed": false,
    "ExecuteTime": {
     "end_time": "2023-11-29T13:15:13.149773625Z",
     "start_time": "2023-11-29T13:15:13.144432459Z"
    }
   }
  },
  {
   "cell_type": "code",
   "execution_count": 67,
   "outputs": [
    {
     "data": {
      "text/plain": "array(['/local_disk/arges/jduret/corpus/voxceleb1/dev/wav/id11251/s4R4hvqrhFw/00005.wav',\n       '/local_disk/arges/jduret/corpus/voxceleb1/dev/wav/id11251/s4R4hvqrhFw/00006.wav',\n       '/local_disk/arges/jduret/corpus/voxceleb1/dev/wav/id11251/s4R4hvqrhFw/00007.wav',\n       '/local_disk/arges/jduret/corpus/voxceleb1/dev/wav/id11251/s4R4hvqrhFw/00008.wav',\n       '/local_disk/arges/jduret/corpus/voxceleb1/dev/wav/id11251/s4R4hvqrhFw/00009.wav'],\n      dtype=object)"
     },
     "execution_count": 67,
     "metadata": {},
     "output_type": "execute_result"
    }
   ],
   "source": [
    "features_vox1.tail(5)['name'].values"
   ],
   "metadata": {
    "collapsed": false,
    "ExecuteTime": {
     "end_time": "2023-11-29T13:15:14.471937864Z",
     "start_time": "2023-11-29T13:15:14.467155698Z"
    }
   }
  },
  {
   "cell_type": "code",
   "execution_count": 68,
   "outputs": [],
   "source": [
    "meta_vox1 = pd.read_csv(\"data/voxceleb1.csv\", sep='\\t')"
   ],
   "metadata": {
    "collapsed": false,
    "ExecuteTime": {
     "end_time": "2023-11-29T13:15:17.290999241Z",
     "start_time": "2023-11-29T13:15:17.279483918Z"
    }
   }
  },
  {
   "cell_type": "code",
   "execution_count": 69,
   "outputs": [
    {
     "data": {
      "text/plain": "     VoxCeleb1 ID     VGGFace1 ID Gender Nationality  Set\n0         id10001    A.J._Buckley      m     Ireland  dev\n1         id10002     A.R._Rahman      m       India  dev\n2         id10003      Aamir_Khan      m       India  dev\n3         id10004     Aaron_Tveit      m         USA  dev\n4         id10005       Aaron_Yoo      m         USA  dev\n...           ...             ...    ...         ...  ...\n1246      id11247    Zachary_Levi      m         USA  dev\n1247      id11248  Zachary_Quinto      m         USA  dev\n1248      id11249     Zack_Snyder      m         USA  dev\n1249      id11250     Zoe_Saldana      f         USA  dev\n1250      id11251     Zulay_Henao      f         USA  dev\n\n[1251 rows x 5 columns]",
      "text/html": "<div>\n<style scoped>\n    .dataframe tbody tr th:only-of-type {\n        vertical-align: middle;\n    }\n\n    .dataframe tbody tr th {\n        vertical-align: top;\n    }\n\n    .dataframe thead th {\n        text-align: right;\n    }\n</style>\n<table border=\"1\" class=\"dataframe\">\n  <thead>\n    <tr style=\"text-align: right;\">\n      <th></th>\n      <th>VoxCeleb1 ID</th>\n      <th>VGGFace1 ID</th>\n      <th>Gender</th>\n      <th>Nationality</th>\n      <th>Set</th>\n    </tr>\n  </thead>\n  <tbody>\n    <tr>\n      <th>0</th>\n      <td>id10001</td>\n      <td>A.J._Buckley</td>\n      <td>m</td>\n      <td>Ireland</td>\n      <td>dev</td>\n    </tr>\n    <tr>\n      <th>1</th>\n      <td>id10002</td>\n      <td>A.R._Rahman</td>\n      <td>m</td>\n      <td>India</td>\n      <td>dev</td>\n    </tr>\n    <tr>\n      <th>2</th>\n      <td>id10003</td>\n      <td>Aamir_Khan</td>\n      <td>m</td>\n      <td>India</td>\n      <td>dev</td>\n    </tr>\n    <tr>\n      <th>3</th>\n      <td>id10004</td>\n      <td>Aaron_Tveit</td>\n      <td>m</td>\n      <td>USA</td>\n      <td>dev</td>\n    </tr>\n    <tr>\n      <th>4</th>\n      <td>id10005</td>\n      <td>Aaron_Yoo</td>\n      <td>m</td>\n      <td>USA</td>\n      <td>dev</td>\n    </tr>\n    <tr>\n      <th>...</th>\n      <td>...</td>\n      <td>...</td>\n      <td>...</td>\n      <td>...</td>\n      <td>...</td>\n    </tr>\n    <tr>\n      <th>1246</th>\n      <td>id11247</td>\n      <td>Zachary_Levi</td>\n      <td>m</td>\n      <td>USA</td>\n      <td>dev</td>\n    </tr>\n    <tr>\n      <th>1247</th>\n      <td>id11248</td>\n      <td>Zachary_Quinto</td>\n      <td>m</td>\n      <td>USA</td>\n      <td>dev</td>\n    </tr>\n    <tr>\n      <th>1248</th>\n      <td>id11249</td>\n      <td>Zack_Snyder</td>\n      <td>m</td>\n      <td>USA</td>\n      <td>dev</td>\n    </tr>\n    <tr>\n      <th>1249</th>\n      <td>id11250</td>\n      <td>Zoe_Saldana</td>\n      <td>f</td>\n      <td>USA</td>\n      <td>dev</td>\n    </tr>\n    <tr>\n      <th>1250</th>\n      <td>id11251</td>\n      <td>Zulay_Henao</td>\n      <td>f</td>\n      <td>USA</td>\n      <td>dev</td>\n    </tr>\n  </tbody>\n</table>\n<p>1251 rows × 5 columns</p>\n</div>"
     },
     "execution_count": 69,
     "metadata": {},
     "output_type": "execute_result"
    }
   ],
   "source": [
    "meta_vox1"
   ],
   "metadata": {
    "collapsed": false,
    "ExecuteTime": {
     "end_time": "2023-11-29T13:15:22.646273343Z",
     "start_time": "2023-11-29T13:15:22.634379689Z"
    }
   }
  },
  {
   "cell_type": "code",
   "execution_count": 70,
   "outputs": [
    {
     "data": {
      "text/plain": "  VoxCeleb1 ID   VGGFace1 ID Gender Nationality  Set\n0      id10001  A.J._Buckley      m     Ireland  dev\n1      id10002   A.R._Rahman      m       India  dev\n2      id10003    Aamir_Khan      m       India  dev\n3      id10004   Aaron_Tveit      m         USA  dev\n4      id10005     Aaron_Yoo      m         USA  dev",
      "text/html": "<div>\n<style scoped>\n    .dataframe tbody tr th:only-of-type {\n        vertical-align: middle;\n    }\n\n    .dataframe tbody tr th {\n        vertical-align: top;\n    }\n\n    .dataframe thead th {\n        text-align: right;\n    }\n</style>\n<table border=\"1\" class=\"dataframe\">\n  <thead>\n    <tr style=\"text-align: right;\">\n      <th></th>\n      <th>VoxCeleb1 ID</th>\n      <th>VGGFace1 ID</th>\n      <th>Gender</th>\n      <th>Nationality</th>\n      <th>Set</th>\n    </tr>\n  </thead>\n  <tbody>\n    <tr>\n      <th>0</th>\n      <td>id10001</td>\n      <td>A.J._Buckley</td>\n      <td>m</td>\n      <td>Ireland</td>\n      <td>dev</td>\n    </tr>\n    <tr>\n      <th>1</th>\n      <td>id10002</td>\n      <td>A.R._Rahman</td>\n      <td>m</td>\n      <td>India</td>\n      <td>dev</td>\n    </tr>\n    <tr>\n      <th>2</th>\n      <td>id10003</td>\n      <td>Aamir_Khan</td>\n      <td>m</td>\n      <td>India</td>\n      <td>dev</td>\n    </tr>\n    <tr>\n      <th>3</th>\n      <td>id10004</td>\n      <td>Aaron_Tveit</td>\n      <td>m</td>\n      <td>USA</td>\n      <td>dev</td>\n    </tr>\n    <tr>\n      <th>4</th>\n      <td>id10005</td>\n      <td>Aaron_Yoo</td>\n      <td>m</td>\n      <td>USA</td>\n      <td>dev</td>\n    </tr>\n  </tbody>\n</table>\n</div>"
     },
     "execution_count": 70,
     "metadata": {},
     "output_type": "execute_result"
    }
   ],
   "source": [
    "meta_vox1.head()"
   ],
   "metadata": {
    "collapsed": false,
    "ExecuteTime": {
     "end_time": "2023-11-29T13:15:24.092901904Z",
     "start_time": "2023-11-29T13:15:24.085857433Z"
    }
   }
  },
  {
   "cell_type": "code",
   "execution_count": 71,
   "outputs": [
    {
     "data": {
      "text/plain": "     VoxCeleb1 ID     VGGFace1 ID Gender Nationality  Set\n1246      id11247    Zachary_Levi      m         USA  dev\n1247      id11248  Zachary_Quinto      m         USA  dev\n1248      id11249     Zack_Snyder      m         USA  dev\n1249      id11250     Zoe_Saldana      f         USA  dev\n1250      id11251     Zulay_Henao      f         USA  dev",
      "text/html": "<div>\n<style scoped>\n    .dataframe tbody tr th:only-of-type {\n        vertical-align: middle;\n    }\n\n    .dataframe tbody tr th {\n        vertical-align: top;\n    }\n\n    .dataframe thead th {\n        text-align: right;\n    }\n</style>\n<table border=\"1\" class=\"dataframe\">\n  <thead>\n    <tr style=\"text-align: right;\">\n      <th></th>\n      <th>VoxCeleb1 ID</th>\n      <th>VGGFace1 ID</th>\n      <th>Gender</th>\n      <th>Nationality</th>\n      <th>Set</th>\n    </tr>\n  </thead>\n  <tbody>\n    <tr>\n      <th>1246</th>\n      <td>id11247</td>\n      <td>Zachary_Levi</td>\n      <td>m</td>\n      <td>USA</td>\n      <td>dev</td>\n    </tr>\n    <tr>\n      <th>1247</th>\n      <td>id11248</td>\n      <td>Zachary_Quinto</td>\n      <td>m</td>\n      <td>USA</td>\n      <td>dev</td>\n    </tr>\n    <tr>\n      <th>1248</th>\n      <td>id11249</td>\n      <td>Zack_Snyder</td>\n      <td>m</td>\n      <td>USA</td>\n      <td>dev</td>\n    </tr>\n    <tr>\n      <th>1249</th>\n      <td>id11250</td>\n      <td>Zoe_Saldana</td>\n      <td>f</td>\n      <td>USA</td>\n      <td>dev</td>\n    </tr>\n    <tr>\n      <th>1250</th>\n      <td>id11251</td>\n      <td>Zulay_Henao</td>\n      <td>f</td>\n      <td>USA</td>\n      <td>dev</td>\n    </tr>\n  </tbody>\n</table>\n</div>"
     },
     "execution_count": 71,
     "metadata": {},
     "output_type": "execute_result"
    }
   ],
   "source": [
    "meta_vox1.tail()"
   ],
   "metadata": {
    "collapsed": false,
    "ExecuteTime": {
     "end_time": "2023-11-29T13:15:25.164455546Z",
     "start_time": "2023-11-29T13:15:25.157541240Z"
    }
   }
  },
  {
   "cell_type": "code",
   "execution_count": 72,
   "outputs": [
    {
     "data": {
      "text/plain": "Index(['VoxCeleb1 ID', 'VGGFace1 ID', 'Gender', 'Nationality', 'Set'], dtype='object')"
     },
     "execution_count": 72,
     "metadata": {},
     "output_type": "execute_result"
    }
   ],
   "source": [
    "meta_vox1.columns"
   ],
   "metadata": {
    "collapsed": false,
    "ExecuteTime": {
     "end_time": "2023-11-29T13:15:27.145920591Z",
     "start_time": "2023-11-29T13:15:27.140063528Z"
    }
   }
  },
  {
   "cell_type": "code",
   "execution_count": 93,
   "outputs": [
    {
     "data": {
      "text/plain": "['dev',\n 'dev',\n 'dev',\n 'dev',\n 'dev',\n 'dev',\n 'dev',\n 'dev',\n 'dev',\n 'dev',\n 'dev',\n 'dev',\n 'dev',\n 'dev',\n 'dev',\n 'dev',\n 'dev',\n 'dev',\n 'dev',\n 'dev',\n 'dev',\n 'dev',\n 'dev',\n 'dev',\n 'dev',\n 'dev',\n 'dev',\n 'dev',\n 'dev',\n 'dev',\n 'dev',\n 'dev',\n 'dev',\n 'dev',\n 'dev',\n 'dev',\n 'dev',\n 'dev',\n 'dev',\n 'dev',\n 'dev',\n 'dev',\n 'dev',\n 'dev',\n 'dev',\n 'dev',\n 'dev',\n 'dev',\n 'dev',\n 'dev',\n 'dev',\n 'dev',\n 'dev',\n 'dev',\n 'dev',\n 'dev',\n 'dev',\n 'dev',\n 'dev',\n 'dev',\n 'dev',\n 'dev',\n 'dev',\n 'dev',\n 'dev',\n 'dev',\n 'dev',\n 'dev',\n 'dev',\n 'dev',\n 'dev',\n 'dev',\n 'dev',\n 'dev',\n 'dev',\n 'dev',\n 'dev',\n 'dev',\n 'dev',\n 'dev',\n 'dev',\n 'dev',\n 'dev',\n 'dev',\n 'dev',\n 'dev',\n 'dev',\n 'dev',\n 'dev',\n 'dev',\n 'dev',\n 'dev',\n 'dev',\n 'dev',\n 'dev',\n 'dev',\n 'dev',\n 'dev',\n 'dev',\n 'dev',\n 'dev',\n 'dev',\n 'dev',\n 'dev',\n 'dev',\n 'dev',\n 'dev',\n 'dev',\n 'dev',\n 'dev',\n 'dev',\n 'dev',\n 'dev',\n 'dev',\n 'dev',\n 'dev',\n 'dev',\n 'dev',\n 'dev',\n 'dev',\n 'dev',\n 'dev',\n 'dev',\n 'dev',\n 'dev',\n 'dev',\n 'dev',\n 'dev',\n 'dev',\n 'dev',\n 'dev',\n 'dev',\n 'dev',\n 'dev',\n 'dev',\n 'dev',\n 'dev',\n 'dev',\n 'dev',\n 'dev',\n 'dev',\n 'dev',\n 'dev',\n 'dev',\n 'dev',\n 'dev',\n 'dev',\n 'dev',\n 'dev',\n 'dev',\n 'dev',\n 'dev',\n 'dev',\n 'dev',\n 'dev',\n 'dev',\n 'dev',\n 'dev',\n 'dev',\n 'dev',\n 'dev',\n 'dev',\n 'dev',\n 'dev',\n 'dev',\n 'dev',\n 'dev',\n 'dev',\n 'dev',\n 'dev',\n 'dev',\n 'dev',\n 'dev',\n 'dev',\n 'dev',\n 'dev',\n 'dev',\n 'dev',\n 'dev',\n 'dev',\n 'dev',\n 'dev',\n 'dev',\n 'dev',\n 'dev',\n 'dev',\n 'dev',\n 'dev',\n 'dev',\n 'dev',\n 'dev',\n 'dev',\n 'dev',\n 'dev',\n 'dev',\n 'dev',\n 'dev',\n 'dev',\n 'dev',\n 'dev',\n 'dev',\n 'dev',\n 'dev',\n 'dev',\n 'dev',\n 'dev',\n 'dev',\n 'dev',\n 'dev',\n 'dev',\n 'dev',\n 'dev',\n 'dev',\n 'dev',\n 'dev',\n 'dev',\n 'dev',\n 'dev',\n 'dev',\n 'dev',\n 'dev',\n 'dev',\n 'dev',\n 'dev',\n 'dev',\n 'dev',\n 'dev',\n 'dev',\n 'dev',\n 'dev',\n 'dev',\n 'dev',\n 'dev',\n 'dev',\n 'dev',\n 'dev',\n 'dev',\n 'dev',\n 'dev',\n 'dev',\n 'dev',\n 'dev',\n 'dev',\n 'dev',\n 'dev',\n 'dev',\n 'dev',\n 'dev',\n 'dev',\n 'dev',\n 'dev',\n 'dev',\n 'dev',\n 'dev',\n 'dev',\n 'dev',\n 'dev',\n 'dev',\n 'dev',\n 'dev',\n 'dev',\n 'dev',\n 'dev',\n 'dev',\n 'dev',\n 'dev',\n 'dev',\n 'dev',\n 'dev',\n 'test',\n 'test',\n 'test',\n 'test',\n 'test',\n 'test',\n 'test',\n 'test',\n 'test',\n 'test',\n 'test',\n 'test',\n 'test',\n 'test',\n 'test',\n 'test',\n 'test',\n 'test',\n 'test',\n 'test',\n 'test',\n 'test',\n 'test',\n 'test',\n 'test',\n 'test',\n 'test',\n 'test',\n 'test',\n 'test',\n 'test',\n 'test',\n 'test',\n 'test',\n 'test',\n 'test',\n 'test',\n 'test',\n 'test',\n 'test',\n 'dev',\n 'dev',\n 'dev',\n 'dev',\n 'dev',\n 'dev',\n 'dev',\n 'dev',\n 'dev',\n 'dev',\n 'dev',\n 'dev',\n 'dev',\n 'dev',\n 'dev',\n 'dev',\n 'dev',\n 'dev',\n 'dev',\n 'dev',\n 'dev',\n 'dev',\n 'dev',\n 'dev',\n 'dev',\n 'dev',\n 'dev',\n 'dev',\n 'dev',\n 'dev',\n 'dev',\n 'dev',\n 'dev',\n 'dev',\n 'dev',\n 'dev',\n 'dev',\n 'dev',\n 'dev',\n 'dev',\n 'dev',\n 'dev',\n 'dev',\n 'dev',\n 'dev',\n 'dev',\n 'dev',\n 'dev',\n 'dev',\n 'dev',\n 'dev',\n 'dev',\n 'dev',\n 'dev',\n 'dev',\n 'dev',\n 'dev',\n 'dev',\n 'dev',\n 'dev',\n 'dev',\n 'dev',\n 'dev',\n 'dev',\n 'dev',\n 'dev',\n 'dev',\n 'dev',\n 'dev',\n 'dev',\n 'dev',\n 'dev',\n 'dev',\n 'dev',\n 'dev',\n 'dev',\n 'dev',\n 'dev',\n 'dev',\n 'dev',\n 'dev',\n 'dev',\n 'dev',\n 'dev',\n 'dev',\n 'dev',\n 'dev',\n 'dev',\n 'dev',\n 'dev',\n 'dev',\n 'dev',\n 'dev',\n 'dev',\n 'dev',\n 'dev',\n 'dev',\n 'dev',\n 'dev',\n 'dev',\n 'dev',\n 'dev',\n 'dev',\n 'dev',\n 'dev',\n 'dev',\n 'dev',\n 'dev',\n 'dev',\n 'dev',\n 'dev',\n 'dev',\n 'dev',\n 'dev',\n 'dev',\n 'dev',\n 'dev',\n 'dev',\n 'dev',\n 'dev',\n 'dev',\n 'dev',\n 'dev',\n 'dev',\n 'dev',\n 'dev',\n 'dev',\n 'dev',\n 'dev',\n 'dev',\n 'dev',\n 'dev',\n 'dev',\n 'dev',\n 'dev',\n 'dev',\n 'dev',\n 'dev',\n 'dev',\n 'dev',\n 'dev',\n 'dev',\n 'dev',\n 'dev',\n 'dev',\n 'dev',\n 'dev',\n 'dev',\n 'dev',\n 'dev',\n 'dev',\n 'dev',\n 'dev',\n 'dev',\n 'dev',\n 'dev',\n 'dev',\n 'dev',\n 'dev',\n 'dev',\n 'dev',\n 'dev',\n 'dev',\n 'dev',\n 'dev',\n 'dev',\n 'dev',\n 'dev',\n 'dev',\n 'dev',\n 'dev',\n 'dev',\n 'dev',\n 'dev',\n 'dev',\n 'dev',\n 'dev',\n 'dev',\n 'dev',\n 'dev',\n 'dev',\n 'dev',\n 'dev',\n 'dev',\n 'dev',\n 'dev',\n 'dev',\n 'dev',\n 'dev',\n 'dev',\n 'dev',\n 'dev',\n 'dev',\n 'dev',\n 'dev',\n 'dev',\n 'dev',\n 'dev',\n 'dev',\n 'dev',\n 'dev',\n 'dev',\n 'dev',\n 'dev',\n 'dev',\n 'dev',\n 'dev',\n 'dev',\n 'dev',\n 'dev',\n 'dev',\n 'dev',\n 'dev',\n 'dev',\n 'dev',\n 'dev',\n 'dev',\n 'dev',\n 'dev',\n 'dev',\n 'dev',\n 'dev',\n 'dev',\n 'dev',\n 'dev',\n 'dev',\n 'dev',\n 'dev',\n 'dev',\n 'dev',\n 'dev',\n 'dev',\n 'dev',\n 'dev',\n 'dev',\n 'dev',\n 'dev',\n 'dev',\n 'dev',\n 'dev',\n 'dev',\n 'dev',\n 'dev',\n 'dev',\n 'dev',\n 'dev',\n 'dev',\n 'dev',\n 'dev',\n 'dev',\n 'dev',\n 'dev',\n 'dev',\n 'dev',\n 'dev',\n 'dev',\n 'dev',\n 'dev',\n 'dev',\n 'dev',\n 'dev',\n 'dev',\n 'dev',\n 'dev',\n 'dev',\n 'dev',\n 'dev',\n 'dev',\n 'dev',\n 'dev',\n 'dev',\n 'dev',\n 'dev',\n 'dev',\n 'dev',\n 'dev',\n 'dev',\n 'dev',\n 'dev',\n 'dev',\n 'dev',\n 'dev',\n 'dev',\n 'dev',\n 'dev',\n 'dev',\n 'dev',\n 'dev',\n 'dev',\n 'dev',\n 'dev',\n 'dev',\n 'dev',\n 'dev',\n 'dev',\n 'dev',\n 'dev',\n 'dev',\n 'dev',\n 'dev',\n 'dev',\n 'dev',\n 'dev',\n 'dev',\n 'dev',\n 'dev',\n 'dev',\n 'dev',\n 'dev',\n 'dev',\n 'dev',\n 'dev',\n 'dev',\n 'dev',\n 'dev',\n 'dev',\n 'dev',\n 'dev',\n 'dev',\n 'dev',\n 'dev',\n 'dev',\n 'dev',\n 'dev',\n 'dev',\n 'dev',\n 'dev',\n 'dev',\n 'dev',\n 'dev',\n 'dev',\n 'dev',\n 'dev',\n 'dev',\n 'dev',\n 'dev',\n 'dev',\n 'dev',\n 'dev',\n 'dev',\n 'dev',\n 'dev',\n 'dev',\n 'dev',\n 'dev',\n 'dev',\n 'dev',\n 'dev',\n 'dev',\n 'dev',\n 'dev',\n 'dev',\n 'dev',\n 'dev',\n 'dev',\n 'dev',\n 'dev',\n 'dev',\n 'dev',\n 'dev',\n 'dev',\n 'dev',\n 'dev',\n 'dev',\n 'dev',\n 'dev',\n 'dev',\n 'dev',\n 'dev',\n 'dev',\n 'dev',\n 'dev',\n 'dev',\n 'dev',\n 'dev',\n 'dev',\n 'dev',\n 'dev',\n 'dev',\n 'dev',\n 'dev',\n 'dev',\n 'dev',\n 'dev',\n 'dev',\n 'dev',\n 'dev',\n 'dev',\n 'dev',\n 'dev',\n 'dev',\n 'dev',\n 'dev',\n 'dev',\n 'dev',\n 'dev',\n 'dev',\n 'dev',\n 'dev',\n 'dev',\n 'dev',\n 'dev',\n 'dev',\n 'dev',\n 'dev',\n 'dev',\n 'dev',\n 'dev',\n 'dev',\n 'dev',\n 'dev',\n 'dev',\n 'dev',\n 'dev',\n 'dev',\n 'dev',\n 'dev',\n 'dev',\n 'dev',\n 'dev',\n 'dev',\n 'dev',\n 'dev',\n 'dev',\n 'dev',\n 'dev',\n 'dev',\n 'dev',\n 'dev',\n 'dev',\n 'dev',\n 'dev',\n 'dev',\n 'dev',\n 'dev',\n 'dev',\n 'dev',\n 'dev',\n 'dev',\n 'dev',\n 'dev',\n 'dev',\n 'dev',\n 'dev',\n 'dev',\n 'dev',\n 'dev',\n 'dev',\n 'dev',\n 'dev',\n 'dev',\n 'dev',\n 'dev',\n 'dev',\n 'dev',\n 'dev',\n 'dev',\n 'dev',\n 'dev',\n 'dev',\n 'dev',\n 'dev',\n 'dev',\n 'dev',\n 'dev',\n 'dev',\n 'dev',\n 'dev',\n 'dev',\n 'dev',\n 'dev',\n 'dev',\n 'dev',\n 'dev',\n 'dev',\n 'dev',\n 'dev',\n 'dev',\n 'dev',\n 'dev',\n 'dev',\n 'dev',\n 'dev',\n 'dev',\n 'dev',\n 'dev',\n 'dev',\n 'dev',\n 'dev',\n 'dev',\n 'dev',\n 'dev',\n 'dev',\n 'dev',\n 'dev',\n 'dev',\n 'dev',\n 'dev',\n 'dev',\n 'dev',\n 'dev',\n 'dev',\n 'dev',\n 'dev',\n 'dev',\n 'dev',\n 'dev',\n 'dev',\n 'dev',\n 'dev',\n 'dev',\n 'dev',\n 'dev',\n 'dev',\n 'dev',\n 'dev',\n 'dev',\n 'dev',\n 'dev',\n 'dev',\n 'dev',\n 'dev',\n 'dev',\n 'dev',\n 'dev',\n 'dev',\n 'dev',\n 'dev',\n 'dev',\n 'dev',\n 'dev',\n 'dev',\n 'dev',\n 'dev',\n 'dev',\n 'dev',\n 'dev',\n 'dev',\n 'dev',\n 'dev',\n 'dev',\n 'dev',\n 'dev',\n 'dev',\n 'dev',\n 'dev',\n 'dev',\n 'dev',\n 'dev',\n 'dev',\n 'dev',\n 'dev',\n 'dev',\n 'dev',\n 'dev',\n 'dev',\n 'dev',\n 'dev',\n 'dev',\n 'dev',\n 'dev',\n 'dev',\n 'dev',\n 'dev',\n 'dev',\n 'dev',\n 'dev',\n 'dev',\n 'dev',\n 'dev',\n 'dev',\n 'dev',\n 'dev',\n 'dev',\n 'dev',\n 'dev',\n 'dev',\n 'dev',\n 'dev',\n 'dev',\n 'dev',\n 'dev',\n 'dev',\n 'dev',\n 'dev',\n 'dev',\n 'dev',\n 'dev',\n 'dev',\n 'dev',\n 'dev',\n 'dev',\n 'dev',\n 'dev',\n 'dev',\n 'dev',\n 'dev',\n 'dev',\n 'dev',\n 'dev',\n 'dev',\n 'dev',\n 'dev',\n 'dev',\n 'dev',\n 'dev',\n 'dev',\n 'dev',\n 'dev',\n 'dev',\n 'dev',\n 'dev',\n 'dev',\n 'dev',\n 'dev',\n 'dev',\n 'dev',\n 'dev',\n 'dev',\n 'dev',\n 'dev',\n 'dev',\n 'dev',\n 'dev',\n 'dev',\n 'dev',\n 'dev',\n 'dev',\n 'dev',\n 'dev',\n 'dev',\n 'dev',\n 'dev',\n 'dev',\n 'dev',\n 'dev',\n 'dev',\n 'dev',\n 'dev',\n 'dev',\n 'dev',\n 'dev',\n 'dev',\n 'dev',\n 'dev',\n 'dev',\n 'dev',\n 'dev',\n 'dev',\n 'dev',\n 'dev',\n 'dev',\n 'dev',\n 'dev',\n 'dev',\n 'dev',\n 'dev',\n 'dev',\n 'dev',\n 'dev',\n 'dev',\n 'dev',\n 'dev',\n 'dev',\n 'dev',\n 'dev',\n 'dev',\n 'dev',\n 'dev',\n 'dev',\n 'dev',\n 'dev',\n 'dev',\n 'dev',\n 'dev',\n 'dev',\n 'dev',\n 'dev',\n 'dev',\n 'dev',\n 'dev',\n 'dev',\n 'dev',\n 'dev',\n 'dev',\n 'dev',\n 'dev',\n 'dev',\n 'dev',\n 'dev',\n 'dev',\n ...]"
     },
     "execution_count": 93,
     "metadata": {},
     "output_type": "execute_result"
    }
   ],
   "source": [
    "meta_vox1['Set'].tolist()"
   ],
   "metadata": {
    "collapsed": false,
    "ExecuteTime": {
     "end_time": "2023-11-29T13:35:33.553106332Z",
     "start_time": "2023-11-29T13:35:33.539530131Z"
    }
   }
  },
  {
   "cell_type": "code",
   "execution_count": 94,
   "outputs": [
    {
     "data": {
      "text/plain": "['Ireland',\n 'India',\n 'India',\n 'USA',\n 'USA',\n 'Australia',\n 'USA',\n 'USA',\n 'Canada',\n 'USA',\n 'Canada',\n 'USA',\n 'USA',\n 'USA',\n 'UK',\n 'Ireland',\n 'India',\n 'India',\n 'Norway',\n 'USA',\n 'UK',\n 'UK',\n 'USA',\n 'Italy',\n 'USA',\n 'USA',\n 'UK',\n 'UK',\n 'USA',\n 'Norway',\n 'Sudan',\n 'USA',\n 'UK',\n 'Canada',\n 'USA',\n 'UK',\n 'Mexico',\n 'USA',\n 'Canada',\n 'USA',\n 'USA',\n 'USA',\n 'USA',\n 'USA',\n 'India',\n 'USA',\n 'USA',\n 'USA',\n 'USA',\n 'UK',\n 'USA',\n 'USA',\n 'UK',\n 'USA',\n 'Ireland',\n 'USA',\n 'USA',\n 'UK',\n 'USA',\n 'USA',\n 'USA',\n 'USA',\n 'USA',\n 'USA',\n 'USA',\n 'USA',\n 'Canada',\n 'USA',\n 'USA',\n 'USA',\n 'UK',\n 'USA',\n 'UK',\n 'USA',\n 'USA',\n 'Canada',\n 'USA',\n 'USA',\n 'USA',\n 'UK',\n 'USA',\n 'USA',\n 'USA',\n 'USA',\n 'UK',\n 'USA',\n 'USA',\n 'USA',\n 'UK',\n 'USA',\n 'USA',\n 'China',\n 'USA',\n 'USA',\n 'USA',\n 'USA',\n 'USA',\n 'UK',\n 'USA',\n 'USA',\n 'USA',\n 'USA',\n 'UK',\n 'Ireland',\n 'USA',\n 'UK',\n 'UK',\n 'USA',\n 'USA',\n 'USA',\n 'USA',\n 'USA',\n 'USA',\n 'Switzerland',\n 'USA',\n 'USA',\n 'Guyana',\n 'Ireland',\n 'USA',\n 'Australia',\n 'USA',\n 'USA',\n 'USA',\n 'USA',\n 'USA',\n 'Canada',\n 'USA',\n 'USA',\n 'USA',\n 'USA',\n 'USA',\n 'USA',\n 'USA',\n 'Italy',\n 'Canada',\n 'USA',\n 'USA',\n 'UK',\n 'USA',\n 'USA',\n 'Philippines',\n 'UK',\n 'USA',\n 'USA',\n 'UK',\n 'USA',\n 'USA',\n 'USA',\n 'USA',\n 'USA',\n 'UK',\n 'USA',\n 'USA',\n 'USA',\n 'Australia',\n 'USA',\n 'UK',\n 'USA',\n 'USA',\n 'USA',\n 'USA',\n 'USA',\n 'USA',\n 'USA',\n 'UK',\n 'Ireland',\n 'USA',\n 'Australia',\n 'USA',\n 'New Zealand',\n 'UK',\n 'USA',\n 'USA',\n 'USA',\n 'USA',\n 'Canada',\n 'Australia',\n 'USA',\n 'USA',\n 'USA',\n 'USA',\n 'UK',\n 'USA',\n 'USA',\n 'Canada',\n 'USA',\n 'UK',\n 'USA',\n 'USA',\n 'USA',\n 'Norway',\n 'UK',\n 'USA',\n 'USA',\n 'USA',\n 'USA',\n 'UK',\n 'USA',\n 'USA',\n 'USA',\n 'USA',\n 'Canada',\n 'UK',\n 'USA',\n 'USA',\n 'USA',\n 'UK',\n 'USA',\n 'UK',\n 'USA',\n 'Germany',\n 'USA',\n 'Australia',\n 'USA',\n 'Mexico',\n 'UK',\n 'USA',\n 'UK',\n 'USA',\n 'UK',\n 'UK',\n 'Australia',\n 'Australia',\n 'USA',\n 'UK',\n 'USA',\n 'USA',\n 'USA',\n 'USA',\n 'USA',\n 'USA',\n 'Mexico',\n 'USA',\n 'USA',\n 'UK',\n 'USA',\n 'USA',\n 'USA',\n 'USA',\n 'USA',\n 'Germany',\n 'USA',\n 'Canada',\n 'Mexico',\n 'Portugal',\n 'Ireland',\n 'UK',\n 'USA',\n 'Canada',\n 'USA',\n 'Canada',\n 'USA',\n 'USA',\n 'China',\n 'USA',\n 'UK',\n 'UK',\n 'Netherlands',\n 'USA',\n 'USA',\n 'USA',\n 'USA',\n 'USA',\n 'USA',\n 'USA',\n 'Canada',\n 'USA',\n 'USA',\n 'Ireland',\n 'USA',\n 'UK',\n 'USA',\n 'UK',\n 'USA',\n 'USA',\n 'UK',\n 'Spain',\n 'USA',\n 'USA',\n 'Ireland',\n 'USA',\n 'UK',\n 'USA',\n 'USA',\n 'USA',\n 'USA',\n 'USA',\n 'Canada',\n 'France',\n 'USA',\n 'UK',\n 'India',\n 'Ireland',\n 'USA',\n 'USA',\n 'USA',\n 'USA',\n 'USA',\n 'USA',\n 'USA',\n 'USA',\n 'USA',\n 'USA',\n 'Canada',\n 'Mexico',\n 'Norway',\n 'USA',\n 'Ireland',\n 'USA',\n 'Norway',\n 'USA',\n 'Pakistan',\n 'USA',\n 'UK',\n 'USA',\n 'UK',\n 'Ireland',\n 'USA',\n 'USA',\n 'USA',\n 'USA',\n 'UK',\n 'UK',\n 'India',\n 'USA',\n 'USA',\n 'USA',\n 'Norway',\n 'USA',\n 'USA',\n 'UK',\n 'UK',\n 'UK',\n 'Norway',\n 'USA',\n 'USA',\n 'USA',\n 'USA',\n 'USA',\n 'Italy',\n 'Ireland',\n 'USA',\n 'USA',\n 'Norway',\n 'Croatia',\n 'UK',\n 'Australia',\n 'UK',\n 'USA',\n 'USA',\n 'UK',\n 'USA',\n 'UK',\n 'Norway',\n 'Australia',\n 'UK',\n 'USA',\n 'USA',\n 'UK',\n 'UK',\n 'Germany',\n 'USA',\n 'USA',\n 'UK',\n 'USA',\n 'USA',\n 'USA',\n 'USA',\n 'USA',\n 'Germany',\n 'UK',\n 'UK',\n 'USA',\n 'USA',\n 'USA',\n 'UK',\n 'USA',\n 'Canada',\n 'UK',\n 'UK',\n 'Australia',\n 'UK',\n 'USA',\n 'South Korea',\n 'UK',\n 'USA',\n 'USA',\n 'UK',\n 'UK',\n 'UK',\n 'Sweden',\n 'Russia',\n 'India',\n 'Australia',\n 'UK',\n 'Poland',\n 'USA',\n 'USA',\n 'USA',\n 'USA',\n 'UK',\n 'USA',\n 'USA',\n 'USA',\n 'UK',\n 'USA',\n 'USA',\n 'Sri Lanka',\n 'Canada',\n 'Australia',\n 'UK',\n 'USA',\n 'USA',\n 'USA',\n 'Norway',\n 'USA',\n 'UK',\n 'USA',\n 'USA',\n 'UK',\n 'USA',\n 'USA',\n 'USA',\n 'USA',\n 'Ireland',\n 'UK',\n 'USA',\n 'USA',\n 'USA',\n 'USA',\n 'USA',\n 'USA',\n 'USA',\n 'USA',\n 'USA',\n 'USA',\n 'UK',\n 'UK',\n 'USA',\n 'USA',\n 'USA',\n 'USA',\n 'UK',\n 'USA',\n 'USA',\n 'USA',\n 'USA',\n 'Australia',\n 'USA',\n 'USA',\n 'USA',\n 'USA',\n 'USA',\n 'Canada',\n 'USA',\n 'Norway',\n 'Norway',\n 'USA',\n 'USA',\n 'USA',\n 'USA',\n 'USA',\n 'USA',\n 'USA',\n 'USA',\n 'USA',\n 'New Zealand',\n 'USA',\n 'USA',\n 'UK',\n 'USA',\n 'USA',\n 'USA',\n 'USA',\n 'USA',\n 'USA',\n 'USA',\n 'UK',\n 'USA',\n 'USA',\n 'UK',\n 'UK',\n 'UK',\n 'USA',\n 'USA',\n 'USA',\n 'USA',\n 'USA',\n 'USA',\n 'USA',\n 'USA',\n 'USA',\n 'Australia',\n 'USA',\n 'Australia',\n 'Canada',\n 'UK',\n 'Singapore',\n 'USA',\n 'Canada',\n 'USA',\n 'UK',\n 'USA',\n 'USA',\n 'UK',\n 'USA',\n 'USA',\n 'USA',\n 'USA',\n 'USA',\n 'Poland',\n 'UK',\n 'UK',\n 'USA',\n 'USA',\n 'Australia',\n 'Sweden',\n 'USA',\n 'India',\n 'USA',\n 'USA',\n 'USA',\n 'USA',\n 'UK',\n 'USA',\n 'USA',\n 'USA',\n 'USA',\n 'USA',\n 'USA',\n 'USA',\n 'UK',\n 'USA',\n 'USA',\n 'USA',\n 'USA',\n 'USA',\n 'UK',\n 'Australia',\n 'UK',\n 'UK',\n 'UK',\n 'USA',\n 'UK',\n 'USA',\n 'USA',\n 'USA',\n 'USA',\n 'USA',\n 'USA',\n 'UK',\n 'USA',\n 'USA',\n 'Ireland',\n 'Canada',\n 'USA',\n 'USA',\n 'Chile',\n 'USA',\n 'USA',\n 'USA',\n 'USA',\n 'USA',\n 'USA',\n 'USA',\n 'USA',\n 'USA',\n 'UK',\n 'USA',\n 'USA',\n 'USA',\n 'USA',\n 'USA',\n 'USA',\n 'UK',\n 'USA',\n 'USA',\n 'USA',\n 'USA',\n 'UK',\n 'USA',\n 'USA',\n 'India',\n 'USA',\n 'USA',\n 'Mexico',\n 'Germany',\n 'USA',\n 'UK',\n 'USA',\n 'USA',\n 'USA',\n 'USA',\n 'USA',\n 'USA',\n 'USA',\n 'USA',\n 'USA',\n 'USA',\n 'USA',\n 'UK',\n 'USA',\n 'Canada',\n 'USA',\n 'Canada',\n 'USA',\n 'USA',\n 'USA',\n 'UK',\n 'USA',\n 'USA',\n 'USA',\n 'USA',\n 'USA',\n 'USA',\n 'UK',\n 'UK',\n 'USA',\n 'Canada',\n 'UK',\n 'USA',\n 'USA',\n 'USA',\n 'USA',\n 'USA',\n 'UK',\n 'UK',\n 'USA',\n 'UK',\n 'USA',\n 'USA',\n 'USA',\n 'USA',\n 'USA',\n 'USA',\n 'USA',\n 'USA',\n 'USA',\n 'USA',\n 'USA',\n 'USA',\n 'USA',\n 'USA',\n 'USA',\n 'USA',\n 'Canada',\n 'USA',\n 'UK',\n 'USA',\n 'USA',\n 'USA',\n 'USA',\n 'USA',\n 'Australia',\n 'USA',\n 'USA',\n 'USA',\n 'USA',\n 'USA',\n 'USA',\n 'USA',\n 'India',\n 'Mexico',\n 'USA',\n 'USA',\n 'Australia',\n 'USA',\n 'USA',\n 'UK',\n 'USA',\n 'UK',\n 'USA',\n 'UK',\n 'USA',\n 'USA',\n 'USA',\n 'USA',\n 'USA',\n 'Philippines',\n 'USA',\n 'USA',\n 'Spain',\n 'UK',\n 'USA',\n 'USA',\n 'UK',\n 'USA',\n 'USA',\n 'USA',\n 'USA',\n 'USA',\n 'USA',\n 'UK',\n 'USA',\n 'USA',\n 'USA',\n 'Canada',\n 'USA',\n 'USA',\n 'USA',\n 'Norway',\n 'USA',\n 'New Zealand',\n 'Chile',\n 'USA',\n 'USA',\n 'Netherlands',\n 'USA',\n 'USA',\n 'USA',\n 'UK',\n 'Norway',\n 'USA',\n 'USA',\n 'USA',\n 'USA',\n 'UK',\n 'USA',\n 'Australia',\n 'UK',\n 'UK',\n 'USA',\n 'Sweden',\n 'India',\n 'USA',\n 'USA',\n 'USA',\n 'USA',\n 'Switzerland',\n 'USA',\n 'USA',\n 'USA',\n 'USA',\n 'Australia',\n 'USA',\n 'USA',\n 'Italy',\n 'USA',\n 'Russia',\n 'Portugal',\n 'Canada',\n 'USA',\n 'USA',\n 'USA',\n 'Spain',\n 'USA',\n 'Norway',\n 'USA',\n 'USA',\n 'USA',\n 'UK',\n 'USA',\n 'USA',\n 'USA',\n 'UK',\n 'UK',\n 'Australia',\n 'USA',\n 'UK',\n 'New Zealand',\n 'USA',\n 'UK',\n 'UK',\n 'USA',\n 'USA',\n 'USA',\n 'USA',\n 'Norway',\n 'Norway',\n 'Norway',\n 'USA',\n 'USA',\n 'USA',\n 'UK',\n 'USA',\n 'UK',\n 'USA',\n 'UK',\n 'USA',\n 'USA',\n 'USA',\n 'UK',\n 'USA',\n 'USA',\n 'USA',\n 'USA',\n 'USA',\n 'USA',\n 'Australia',\n 'USA',\n 'USA',\n 'USA',\n 'USA',\n 'USA',\n 'USA',\n 'USA',\n 'USA',\n 'USA',\n 'Australia',\n 'USA',\n 'USA',\n 'Canada',\n 'USA',\n 'USA',\n 'USA',\n 'USA',\n 'USA',\n 'USA',\n 'USA',\n 'Canada',\n 'USA',\n 'USA',\n 'UK',\n 'USA',\n 'USA',\n 'USA',\n 'UK',\n 'UK',\n 'USA',\n 'USA',\n 'USA',\n 'USA',\n 'USA',\n 'USA',\n 'USA',\n 'Russia',\n 'USA',\n 'Croatia',\n 'USA',\n 'UK',\n 'Australia',\n 'USA',\n 'UK',\n 'UK',\n 'USA',\n 'USA',\n 'USA',\n 'USA',\n 'USA',\n 'USA',\n 'USA',\n 'USA',\n 'Israel',\n 'Brazil',\n 'Germany',\n 'Sweden',\n 'USA',\n 'USA',\n 'USA',\n 'USA',\n 'UK',\n 'India',\n 'UK',\n 'UK',\n 'USA',\n 'USA',\n 'USA',\n 'UK',\n 'USA',\n 'UK',\n 'Canada',\n 'Australia',\n 'USA',\n 'USA',\n 'USA',\n 'USA',\n 'UK',\n 'USA',\n 'USA',\n 'Canada',\n 'Canada',\n 'Ireland',\n 'USA',\n 'USA',\n 'USA',\n 'Trinidad and Tobago',\n 'USA',\n 'USA',\n 'USA',\n 'USA',\n 'Denmark',\n 'USA',\n 'Germany',\n 'USA',\n 'UK',\n 'UK',\n 'Sweden',\n 'USA',\n 'USA',\n 'USA',\n 'USA',\n 'Russia',\n 'Canada',\n 'UK',\n 'UK',\n 'USA',\n 'USA',\n 'USA',\n 'USA',\n 'UK',\n 'India',\n 'USA',\n 'Spain',\n 'USA',\n 'USA',\n 'UK',\n 'USA',\n 'USA',\n 'UK',\n 'USA',\n 'Italy',\n 'India',\n 'USA',\n 'USA',\n 'USA',\n 'USA',\n 'USA',\n 'USA',\n 'USA',\n 'USA',\n 'USA',\n 'USA',\n 'Canada',\n 'UK',\n 'USA',\n 'USA',\n 'USA',\n 'USA',\n 'USA',\n 'USA',\n 'USA',\n 'UK',\n 'USA',\n 'USA',\n 'New Zealand',\n 'USA',\n 'UK',\n 'USA',\n 'Italy',\n 'Norway',\n 'India',\n 'Australia',\n 'India',\n 'USA',\n 'USA',\n 'USA',\n 'USA',\n 'Canada',\n 'Croatia',\n 'USA',\n 'USA',\n 'UK',\n 'USA',\n 'USA',\n 'India',\n 'India',\n 'USA',\n 'Italy',\n 'UK',\n 'USA',\n 'UK',\n 'Australia',\n 'UK',\n 'Philippines',\n 'USA',\n 'Canada',\n 'Switzerland',\n 'USA',\n 'New Zealand',\n 'UK',\n 'UK',\n 'USA',\n 'UK',\n 'UK',\n 'USA',\n 'UK',\n 'UK',\n 'USA',\n 'UK',\n 'USA',\n 'UK',\n 'UK',\n 'UK',\n 'USA',\n 'USA',\n 'USA',\n 'USA',\n 'Canada',\n 'UK',\n 'UK',\n 'USA',\n 'UK',\n 'USA',\n 'Ireland',\n 'USA',\n 'USA',\n 'UK',\n 'USA',\n 'USA',\n 'USA',\n ...]"
     },
     "execution_count": 94,
     "metadata": {},
     "output_type": "execute_result"
    }
   ],
   "source": [
    "meta_vox1['Nationality'].tolist()"
   ],
   "metadata": {
    "collapsed": false,
    "ExecuteTime": {
     "end_time": "2023-11-29T13:35:52.310651515Z",
     "start_time": "2023-11-29T13:35:52.256304356Z"
    }
   }
  },
  {
   "cell_type": "code",
   "execution_count": 81,
   "outputs": [],
   "source": [
    "meta_vox2 = pd.read_csv(\"data/vox2_meta.csv\")"
   ],
   "metadata": {
    "collapsed": false,
    "ExecuteTime": {
     "end_time": "2023-11-29T13:18:57.823800051Z",
     "start_time": "2023-11-29T13:18:57.784247086Z"
    }
   }
  },
  {
   "cell_type": "code",
   "execution_count": 82,
   "outputs": [
    {
     "data": {
      "text/plain": "     VoxCeleb2 ID VGGFace2 ID Gender    Set\n0        id00012     n000012      m    dev \n1        id00015     n000015      m    dev \n2        id00016     n000016      m    dev \n3        id00017     n000017      m   test \n4        id00018     n000018      m    dev \n...           ...         ...    ...    ...\n6109     id09263     n009263      m    dev \n6110     id09268     n009268      m    dev \n6111     id09269     n009269      m    dev \n6112     id09271     n009271      m    dev \n6113     id09272     n009272      m    dev \n\n[6114 rows x 4 columns]",
      "text/html": "<div>\n<style scoped>\n    .dataframe tbody tr th:only-of-type {\n        vertical-align: middle;\n    }\n\n    .dataframe tbody tr th {\n        vertical-align: top;\n    }\n\n    .dataframe thead th {\n        text-align: right;\n    }\n</style>\n<table border=\"1\" class=\"dataframe\">\n  <thead>\n    <tr style=\"text-align: right;\">\n      <th></th>\n      <th>VoxCeleb2 ID</th>\n      <th>VGGFace2 ID</th>\n      <th>Gender</th>\n      <th>Set</th>\n    </tr>\n  </thead>\n  <tbody>\n    <tr>\n      <th>0</th>\n      <td>id00012</td>\n      <td>n000012</td>\n      <td>m</td>\n      <td>dev</td>\n    </tr>\n    <tr>\n      <th>1</th>\n      <td>id00015</td>\n      <td>n000015</td>\n      <td>m</td>\n      <td>dev</td>\n    </tr>\n    <tr>\n      <th>2</th>\n      <td>id00016</td>\n      <td>n000016</td>\n      <td>m</td>\n      <td>dev</td>\n    </tr>\n    <tr>\n      <th>3</th>\n      <td>id00017</td>\n      <td>n000017</td>\n      <td>m</td>\n      <td>test</td>\n    </tr>\n    <tr>\n      <th>4</th>\n      <td>id00018</td>\n      <td>n000018</td>\n      <td>m</td>\n      <td>dev</td>\n    </tr>\n    <tr>\n      <th>...</th>\n      <td>...</td>\n      <td>...</td>\n      <td>...</td>\n      <td>...</td>\n    </tr>\n    <tr>\n      <th>6109</th>\n      <td>id09263</td>\n      <td>n009263</td>\n      <td>m</td>\n      <td>dev</td>\n    </tr>\n    <tr>\n      <th>6110</th>\n      <td>id09268</td>\n      <td>n009268</td>\n      <td>m</td>\n      <td>dev</td>\n    </tr>\n    <tr>\n      <th>6111</th>\n      <td>id09269</td>\n      <td>n009269</td>\n      <td>m</td>\n      <td>dev</td>\n    </tr>\n    <tr>\n      <th>6112</th>\n      <td>id09271</td>\n      <td>n009271</td>\n      <td>m</td>\n      <td>dev</td>\n    </tr>\n    <tr>\n      <th>6113</th>\n      <td>id09272</td>\n      <td>n009272</td>\n      <td>m</td>\n      <td>dev</td>\n    </tr>\n  </tbody>\n</table>\n<p>6114 rows × 4 columns</p>\n</div>"
     },
     "execution_count": 82,
     "metadata": {},
     "output_type": "execute_result"
    }
   ],
   "source": [
    "meta_vox2"
   ],
   "metadata": {
    "collapsed": false,
    "ExecuteTime": {
     "end_time": "2023-11-29T13:18:59.244249449Z",
     "start_time": "2023-11-29T13:18:59.232450954Z"
    }
   }
  },
  {
   "cell_type": "code",
   "execution_count": 96,
   "outputs": [
    {
     "data": {
      "text/plain": "Index(['VoxCeleb2 ID', 'VGGFace2 ID', 'Gender', 'Set'], dtype='object')"
     },
     "execution_count": 96,
     "metadata": {},
     "output_type": "execute_result"
    }
   ],
   "source": [
    "meta_vox2.columns"
   ],
   "metadata": {
    "collapsed": false,
    "ExecuteTime": {
     "end_time": "2023-11-29T13:39:19.268419195Z",
     "start_time": "2023-11-29T13:39:19.252485576Z"
    }
   }
  },
  {
   "cell_type": "code",
   "execution_count": 112,
   "outputs": [],
   "source": [
    "floc_train = meta_vox2[meta_vox2[\"Set\"] == \"dev\"][\"Gender\"].to_list().count(\"f\")"
   ],
   "metadata": {
    "collapsed": false,
    "ExecuteTime": {
     "end_time": "2023-11-29T13:47:01.371255778Z",
     "start_time": "2023-11-29T13:47:01.351805950Z"
    }
   }
  },
  {
   "cell_type": "code",
   "execution_count": 113,
   "outputs": [
    {
     "data": {
      "text/plain": "2312"
     },
     "execution_count": 113,
     "metadata": {},
     "output_type": "execute_result"
    }
   ],
   "source": [
    "floc_train"
   ],
   "metadata": {
    "collapsed": false,
    "ExecuteTime": {
     "end_time": "2023-11-29T13:47:27.987040215Z",
     "start_time": "2023-11-29T13:47:27.964543330Z"
    }
   }
  },
  {
   "cell_type": "code",
   "execution_count": 116,
   "outputs": [],
   "source": [
    "mloc_train = meta_vox2[meta_vox2[\"Set\"] == \"dev\"][\"Gender\"].to_list().count(\"m\")"
   ],
   "metadata": {
    "collapsed": false,
    "ExecuteTime": {
     "end_time": "2023-11-29T13:48:41.023844147Z",
     "start_time": "2023-11-29T13:48:40.980644569Z"
    }
   }
  },
  {
   "cell_type": "code",
   "execution_count": 117,
   "outputs": [
    {
     "data": {
      "text/plain": "3682"
     },
     "execution_count": 117,
     "metadata": {},
     "output_type": "execute_result"
    }
   ],
   "source": [
    "mloc_train"
   ],
   "metadata": {
    "collapsed": false,
    "ExecuteTime": {
     "end_time": "2023-11-29T13:48:45.799822770Z",
     "start_time": "2023-11-29T13:48:45.777740315Z"
    }
   }
  },
  {
   "cell_type": "code",
   "execution_count": 120,
   "outputs": [],
   "source": [
    "BA = [f\"BA{i}\" for i in range(256)]"
   ],
   "metadata": {
    "collapsed": false,
    "ExecuteTime": {
     "end_time": "2023-11-29T13:55:24.838812587Z",
     "start_time": "2023-11-29T13:55:24.823697985Z"
    }
   }
  },
  {
   "cell_type": "code",
   "execution_count": null,
   "outputs": [],
   "source": [
    "\n",
    "for ba in BA:\n",
    "    ba0 = pd.read_csv(f\"data/BA/{ba}_0.csv\")\n",
    "    \n",
    "    ba1 = pd.read_csv(f\"data/BA/{ba}_1.csv\")"
   ],
   "metadata": {
    "collapsed": false
   }
  },
  {
   "cell_type": "code",
   "execution_count": 123,
   "outputs": [],
   "source": [
    "ba0 = pd.read_csv(f\"data/BA/BA2_0.csv\")"
   ],
   "metadata": {
    "collapsed": false,
    "ExecuteTime": {
     "end_time": "2023-11-29T14:10:14.408571058Z",
     "start_time": "2023-11-29T14:10:12.641194720Z"
    }
   }
  },
  {
   "cell_type": "code",
   "execution_count": 124,
   "outputs": [
    {
     "data": {
      "text/plain": "        Unnamed: 0                                               name  \\\n0             2024  /local_disk/arges/jduret/corpus/voxceleb2/wav/...   \n1             2025  /local_disk/arges/jduret/corpus/voxceleb2/wav/...   \n2             2026  /local_disk/arges/jduret/corpus/voxceleb2/wav/...   \n3             2027  /local_disk/arges/jduret/corpus/voxceleb2/wav/...   \n4             2028  /local_disk/arges/jduret/corpus/voxceleb2/wav/...   \n...            ...                                                ...   \n141993     1021170  /local_disk/arges/jduret/corpus/voxceleb2/wav/...   \n141994     1021171  /local_disk/arges/jduret/corpus/voxceleb2/wav/...   \n141995     1021172  /local_disk/arges/jduret/corpus/voxceleb2/wav/...   \n141996     1021173  /local_disk/arges/jduret/corpus/voxceleb2/wav/...   \n141997     1021174  /local_disk/arges/jduret/corpus/voxceleb2/wav/...   \n\n        F0semitoneFrom27.5Hz_sma3nz_amean  \\\n0                               38.126556   \n1                               35.880215   \n2                               35.739902   \n3                               35.746403   \n4                               34.361030   \n...                                   ...   \n141993                          26.376272   \n141994                          27.474722   \n141995                          28.430233   \n141996                          26.567656   \n141997                          27.074160   \n\n        F0semitoneFrom27.5Hz_sma3nz_stddevNorm  \\\n0                                     0.113892   \n1                                     0.114054   \n2                                     0.109581   \n3                                     0.116088   \n4                                     0.060540   \n...                                        ...   \n141993                                0.107599   \n141994                                0.057399   \n141995                                0.068650   \n141996                                0.044747   \n141997                                0.078016   \n\n        F0semitoneFrom27.5Hz_sma3nz_percentile20.0  \\\n0                                        34.585064   \n1                                        33.382620   \n2                                        33.152880   \n3                                        32.894516   \n4                                        33.013336   \n...                                            ...   \n141993                                   24.174902   \n141994                                   26.250732   \n141995                                   27.050735   \n141996                                   25.553486   \n141997                                   25.613766   \n\n        F0semitoneFrom27.5Hz_sma3nz_percentile50.0  \\\n0                                        37.127020   \n1                                        35.580338   \n2                                        34.628320   \n3                                        33.914318   \n4                                        34.027720   \n...                                            ...   \n141993                                   25.852503   \n141994                                   27.263891   \n141995                                   28.105984   \n141996                                   26.580168   \n141997                                   26.897936   \n\n        F0semitoneFrom27.5Hz_sma3nz_percentile80.0  \\\n0                                        41.240135   \n1                                        36.953915   \n2                                        38.281680   \n3                                        38.696407   \n4                                        36.276966   \n...                                            ...   \n141993                                   27.355515   \n141994                                   28.710384   \n141995                                   29.691120   \n141996                                   27.612293   \n141997                                   28.945742   \n\n        F0semitoneFrom27.5Hz_sma3nz_pctlrange0-2  \\\n0                                       6.655071   \n1                                       3.571293   \n2                                       5.128799   \n3                                       5.801891   \n4                                       3.263630   \n...                                          ...   \n141993                                  3.180613   \n141994                                  2.459652   \n141995                                  2.640385   \n141996                                  2.058807   \n141997                                  3.331976   \n\n        F0semitoneFrom27.5Hz_sma3nz_meanRisingSlope  \\\n0                                        228.075760   \n1                                        473.276030   \n2                                        180.249980   \n3                                        205.951300   \n4                                        178.428240   \n...                                             ...   \n141993                                    90.232310   \n141994                                   148.140610   \n141995                                    85.713850   \n141996                                    63.357506   \n141997                                    71.624725   \n\n        F0semitoneFrom27.5Hz_sma3nz_stddevRisingSlope  ...  \\\n0                                          278.595640  ...   \n1                                          467.652920  ...   \n2                                          137.692610  ...   \n3                                          233.991010  ...   \n4                                          350.628600  ...   \n...                                               ...  ...   \n141993                                     130.258700  ...   \n141994                                     168.289810  ...   \n141995                                     159.627470  ...   \n141996                                     102.900750  ...   \n141997                                      94.716705  ...   \n\n        slopeUV0-500_sma3nz_amean  slopeUV500-1500_sma3nz_amean  \\\n0                        0.061887                      0.000562   \n1                        0.055755                      0.001271   \n2                        0.054786                      0.001193   \n3                        0.057754                      0.001523   \n4                        0.055583                      0.002487   \n...                           ...                           ...   \n141993                  -0.024439                     -0.007036   \n141994                  -0.024668                     -0.003782   \n141995                  -0.024800                     -0.003040   \n141996                  -0.028828                     -0.006541   \n141997                  -0.026602                     -0.006809   \n\n        spectralFluxUV_sma3nz_amean  loudnessPeaksPerSec  \\\n0                          0.100998             4.621849   \n1                          0.073596             4.194261   \n2                          0.100627             4.617117   \n3                          0.074276             3.495860   \n4                          0.081801             4.147466   \n...                             ...                  ...   \n141993                     0.175238             4.035433   \n141994                     0.189863             3.913630   \n141995                     0.184798             4.319300   \n141996                     0.205004             3.518374   \n141997                     0.185552             4.099379   \n\n        VoicedSegmentsPerSec  MeanVoicedSegmentLengthSec  \\\n0                   3.590285                    0.135588   \n1                   4.250559                    0.110526   \n2                   3.287982                    0.185172   \n3                   2.495379                    0.217037   \n4                   3.030303                    0.197692   \n...                      ...                         ...   \n141993              2.673267                    0.190370   \n141994              2.717392                    0.188500   \n141995              2.521930                    0.215000   \n141996              2.747253                    0.168286   \n141997              2.875000                    0.180000   \n\n        StddevVoicedSegmentLengthSec  MeanUnvoicedSegmentLength  \\\n0                           0.093595                   0.125758   \n1                           0.086358                   0.123750   \n2                           0.135281                   0.118333   \n3                           0.180428                   0.161481   \n4                           0.171247                   0.105000   \n...                              ...                        ...   \n141993                      0.206837                   0.163704   \n141994                      0.183991                   0.151429   \n141995                      0.156785                   0.164889   \n141996                      0.138409                   0.175714   \n141997                      0.137935                   0.141250   \n\n        StddevUnvoicedSegmentLength  equivalentSoundLevel_dBp  \n0                          0.117526                -27.744940  \n1                          0.182410                -29.441092  \n2                          0.118662                -27.039818  \n3                          0.179066                -28.257343  \n4                          0.081482                -28.571518  \n...                             ...                       ...  \n141993                     0.188722                -24.704174  \n141994                     0.148173                -23.560486  \n141995                     0.173354                -23.797370  \n141996                     0.176154                -22.807154  \n141997                     0.152870                -23.436787  \n\n[141998 rows x 90 columns]",
      "text/html": "<div>\n<style scoped>\n    .dataframe tbody tr th:only-of-type {\n        vertical-align: middle;\n    }\n\n    .dataframe tbody tr th {\n        vertical-align: top;\n    }\n\n    .dataframe thead th {\n        text-align: right;\n    }\n</style>\n<table border=\"1\" class=\"dataframe\">\n  <thead>\n    <tr style=\"text-align: right;\">\n      <th></th>\n      <th>Unnamed: 0</th>\n      <th>name</th>\n      <th>F0semitoneFrom27.5Hz_sma3nz_amean</th>\n      <th>F0semitoneFrom27.5Hz_sma3nz_stddevNorm</th>\n      <th>F0semitoneFrom27.5Hz_sma3nz_percentile20.0</th>\n      <th>F0semitoneFrom27.5Hz_sma3nz_percentile50.0</th>\n      <th>F0semitoneFrom27.5Hz_sma3nz_percentile80.0</th>\n      <th>F0semitoneFrom27.5Hz_sma3nz_pctlrange0-2</th>\n      <th>F0semitoneFrom27.5Hz_sma3nz_meanRisingSlope</th>\n      <th>F0semitoneFrom27.5Hz_sma3nz_stddevRisingSlope</th>\n      <th>...</th>\n      <th>slopeUV0-500_sma3nz_amean</th>\n      <th>slopeUV500-1500_sma3nz_amean</th>\n      <th>spectralFluxUV_sma3nz_amean</th>\n      <th>loudnessPeaksPerSec</th>\n      <th>VoicedSegmentsPerSec</th>\n      <th>MeanVoicedSegmentLengthSec</th>\n      <th>StddevVoicedSegmentLengthSec</th>\n      <th>MeanUnvoicedSegmentLength</th>\n      <th>StddevUnvoicedSegmentLength</th>\n      <th>equivalentSoundLevel_dBp</th>\n    </tr>\n  </thead>\n  <tbody>\n    <tr>\n      <th>0</th>\n      <td>2024</td>\n      <td>/local_disk/arges/jduret/corpus/voxceleb2/wav/...</td>\n      <td>38.126556</td>\n      <td>0.113892</td>\n      <td>34.585064</td>\n      <td>37.127020</td>\n      <td>41.240135</td>\n      <td>6.655071</td>\n      <td>228.075760</td>\n      <td>278.595640</td>\n      <td>...</td>\n      <td>0.061887</td>\n      <td>0.000562</td>\n      <td>0.100998</td>\n      <td>4.621849</td>\n      <td>3.590285</td>\n      <td>0.135588</td>\n      <td>0.093595</td>\n      <td>0.125758</td>\n      <td>0.117526</td>\n      <td>-27.744940</td>\n    </tr>\n    <tr>\n      <th>1</th>\n      <td>2025</td>\n      <td>/local_disk/arges/jduret/corpus/voxceleb2/wav/...</td>\n      <td>35.880215</td>\n      <td>0.114054</td>\n      <td>33.382620</td>\n      <td>35.580338</td>\n      <td>36.953915</td>\n      <td>3.571293</td>\n      <td>473.276030</td>\n      <td>467.652920</td>\n      <td>...</td>\n      <td>0.055755</td>\n      <td>0.001271</td>\n      <td>0.073596</td>\n      <td>4.194261</td>\n      <td>4.250559</td>\n      <td>0.110526</td>\n      <td>0.086358</td>\n      <td>0.123750</td>\n      <td>0.182410</td>\n      <td>-29.441092</td>\n    </tr>\n    <tr>\n      <th>2</th>\n      <td>2026</td>\n      <td>/local_disk/arges/jduret/corpus/voxceleb2/wav/...</td>\n      <td>35.739902</td>\n      <td>0.109581</td>\n      <td>33.152880</td>\n      <td>34.628320</td>\n      <td>38.281680</td>\n      <td>5.128799</td>\n      <td>180.249980</td>\n      <td>137.692610</td>\n      <td>...</td>\n      <td>0.054786</td>\n      <td>0.001193</td>\n      <td>0.100627</td>\n      <td>4.617117</td>\n      <td>3.287982</td>\n      <td>0.185172</td>\n      <td>0.135281</td>\n      <td>0.118333</td>\n      <td>0.118662</td>\n      <td>-27.039818</td>\n    </tr>\n    <tr>\n      <th>3</th>\n      <td>2027</td>\n      <td>/local_disk/arges/jduret/corpus/voxceleb2/wav/...</td>\n      <td>35.746403</td>\n      <td>0.116088</td>\n      <td>32.894516</td>\n      <td>33.914318</td>\n      <td>38.696407</td>\n      <td>5.801891</td>\n      <td>205.951300</td>\n      <td>233.991010</td>\n      <td>...</td>\n      <td>0.057754</td>\n      <td>0.001523</td>\n      <td>0.074276</td>\n      <td>3.495860</td>\n      <td>2.495379</td>\n      <td>0.217037</td>\n      <td>0.180428</td>\n      <td>0.161481</td>\n      <td>0.179066</td>\n      <td>-28.257343</td>\n    </tr>\n    <tr>\n      <th>4</th>\n      <td>2028</td>\n      <td>/local_disk/arges/jduret/corpus/voxceleb2/wav/...</td>\n      <td>34.361030</td>\n      <td>0.060540</td>\n      <td>33.013336</td>\n      <td>34.027720</td>\n      <td>36.276966</td>\n      <td>3.263630</td>\n      <td>178.428240</td>\n      <td>350.628600</td>\n      <td>...</td>\n      <td>0.055583</td>\n      <td>0.002487</td>\n      <td>0.081801</td>\n      <td>4.147466</td>\n      <td>3.030303</td>\n      <td>0.197692</td>\n      <td>0.171247</td>\n      <td>0.105000</td>\n      <td>0.081482</td>\n      <td>-28.571518</td>\n    </tr>\n    <tr>\n      <th>...</th>\n      <td>...</td>\n      <td>...</td>\n      <td>...</td>\n      <td>...</td>\n      <td>...</td>\n      <td>...</td>\n      <td>...</td>\n      <td>...</td>\n      <td>...</td>\n      <td>...</td>\n      <td>...</td>\n      <td>...</td>\n      <td>...</td>\n      <td>...</td>\n      <td>...</td>\n      <td>...</td>\n      <td>...</td>\n      <td>...</td>\n      <td>...</td>\n      <td>...</td>\n      <td>...</td>\n    </tr>\n    <tr>\n      <th>141993</th>\n      <td>1021170</td>\n      <td>/local_disk/arges/jduret/corpus/voxceleb2/wav/...</td>\n      <td>26.376272</td>\n      <td>0.107599</td>\n      <td>24.174902</td>\n      <td>25.852503</td>\n      <td>27.355515</td>\n      <td>3.180613</td>\n      <td>90.232310</td>\n      <td>130.258700</td>\n      <td>...</td>\n      <td>-0.024439</td>\n      <td>-0.007036</td>\n      <td>0.175238</td>\n      <td>4.035433</td>\n      <td>2.673267</td>\n      <td>0.190370</td>\n      <td>0.206837</td>\n      <td>0.163704</td>\n      <td>0.188722</td>\n      <td>-24.704174</td>\n    </tr>\n    <tr>\n      <th>141994</th>\n      <td>1021171</td>\n      <td>/local_disk/arges/jduret/corpus/voxceleb2/wav/...</td>\n      <td>27.474722</td>\n      <td>0.057399</td>\n      <td>26.250732</td>\n      <td>27.263891</td>\n      <td>28.710384</td>\n      <td>2.459652</td>\n      <td>148.140610</td>\n      <td>168.289810</td>\n      <td>...</td>\n      <td>-0.024668</td>\n      <td>-0.003782</td>\n      <td>0.189863</td>\n      <td>3.913630</td>\n      <td>2.717392</td>\n      <td>0.188500</td>\n      <td>0.183991</td>\n      <td>0.151429</td>\n      <td>0.148173</td>\n      <td>-23.560486</td>\n    </tr>\n    <tr>\n      <th>141995</th>\n      <td>1021172</td>\n      <td>/local_disk/arges/jduret/corpus/voxceleb2/wav/...</td>\n      <td>28.430233</td>\n      <td>0.068650</td>\n      <td>27.050735</td>\n      <td>28.105984</td>\n      <td>29.691120</td>\n      <td>2.640385</td>\n      <td>85.713850</td>\n      <td>159.627470</td>\n      <td>...</td>\n      <td>-0.024800</td>\n      <td>-0.003040</td>\n      <td>0.184798</td>\n      <td>4.319300</td>\n      <td>2.521930</td>\n      <td>0.215000</td>\n      <td>0.156785</td>\n      <td>0.164889</td>\n      <td>0.173354</td>\n      <td>-23.797370</td>\n    </tr>\n    <tr>\n      <th>141996</th>\n      <td>1021173</td>\n      <td>/local_disk/arges/jduret/corpus/voxceleb2/wav/...</td>\n      <td>26.567656</td>\n      <td>0.044747</td>\n      <td>25.553486</td>\n      <td>26.580168</td>\n      <td>27.612293</td>\n      <td>2.058807</td>\n      <td>63.357506</td>\n      <td>102.900750</td>\n      <td>...</td>\n      <td>-0.028828</td>\n      <td>-0.006541</td>\n      <td>0.205004</td>\n      <td>3.518374</td>\n      <td>2.747253</td>\n      <td>0.168286</td>\n      <td>0.138409</td>\n      <td>0.175714</td>\n      <td>0.176154</td>\n      <td>-22.807154</td>\n    </tr>\n    <tr>\n      <th>141997</th>\n      <td>1021174</td>\n      <td>/local_disk/arges/jduret/corpus/voxceleb2/wav/...</td>\n      <td>27.074160</td>\n      <td>0.078016</td>\n      <td>25.613766</td>\n      <td>26.897936</td>\n      <td>28.945742</td>\n      <td>3.331976</td>\n      <td>71.624725</td>\n      <td>94.716705</td>\n      <td>...</td>\n      <td>-0.026602</td>\n      <td>-0.006809</td>\n      <td>0.185552</td>\n      <td>4.099379</td>\n      <td>2.875000</td>\n      <td>0.180000</td>\n      <td>0.137935</td>\n      <td>0.141250</td>\n      <td>0.152870</td>\n      <td>-23.436787</td>\n    </tr>\n  </tbody>\n</table>\n<p>141998 rows × 90 columns</p>\n</div>"
     },
     "execution_count": 124,
     "metadata": {},
     "output_type": "execute_result"
    }
   ],
   "source": [
    "ba0"
   ],
   "metadata": {
    "collapsed": false,
    "ExecuteTime": {
     "end_time": "2023-11-29T14:10:36.145166366Z",
     "start_time": "2023-11-29T14:10:36.087218191Z"
    }
   }
  },
  {
   "cell_type": "code",
   "execution_count": 118,
   "outputs": [],
   "source": [
    "from sklearn.preprocessing import StandardScaler"
   ],
   "metadata": {
    "collapsed": false,
    "ExecuteTime": {
     "end_time": "2023-11-29T13:51:28.526315984Z",
     "start_time": "2023-11-29T13:51:28.413819607Z"
    }
   }
  },
  {
   "cell_type": "code",
   "execution_count": null,
   "outputs": [],
   "source": [
    "def prepare_data(ba):\n",
    "    print(f'Number of men in Train={mloc_train}')\n",
    "    print(f'Number of female in Train={floc_train}')\n",
    "    ba0 = pd.read_csv(f\"data/BA/{ba}_0.csv\")\n",
    "    ba1 = pd.read_csv(f\"data/BA/{ba}_1.csv\")\n",
    "    X = pd.concat([ba0, ba1], ignore_index=True)\n",
    "    S = StandardScaler()\n",
    "    X_scaled = pd.DataFrame(S.fit_transform(X.iloc[:, 1:]), columns=X.iloc[:, 1:].columns)\n",
    "    X_scaled[\"name\"] = X[\"name\"]\n",
    "    y = [0] * len(ba0) + [1] * len(ba1)\n",
    "    return X_scaled, y, ba0, ba1"
   ],
   "metadata": {
    "collapsed": false
   }
  },
  {
   "cell_type": "code",
   "execution_count": null,
   "outputs": [],
   "source": [],
   "metadata": {
    "collapsed": false
   }
  }
 ],
 "metadata": {
  "kernelspec": {
   "display_name": "Python 3",
   "language": "python",
   "name": "python3"
  },
  "language_info": {
   "codemirror_mode": {
    "name": "ipython",
    "version": 2
   },
   "file_extension": ".py",
   "mimetype": "text/x-python",
   "name": "python",
   "nbconvert_exporter": "python",
   "pygments_lexer": "ipython2",
   "version": "2.7.6"
  }
 },
 "nbformat": 4,
 "nbformat_minor": 0
}
