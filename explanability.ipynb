{
 "cells": [
  {
   "cell_type": "code",
   "execution_count": 9,
   "outputs": [],
   "source": [
    "import pandas as pd"
   ],
   "metadata": {
    "collapsed": false,
    "ExecuteTime": {
     "end_time": "2023-11-29T04:01:01.093907Z",
     "start_time": "2023-11-29T04:01:01.092319Z"
    }
   }
  },
  {
   "cell_type": "code",
   "execution_count": 10,
   "metadata": {
    "collapsed": true,
    "ExecuteTime": {
     "end_time": "2023-11-29T04:01:01.104371Z",
     "start_time": "2023-11-29T04:01:01.095306Z"
    }
   },
   "outputs": [],
   "source": [
    "path = 'data/vox1_opensmile.csv'"
   ]
  },
  {
   "cell_type": "code",
   "execution_count": 11,
   "outputs": [],
   "source": [
    "df = pd.read_csv(path)"
   ],
   "metadata": {
    "collapsed": false,
    "ExecuteTime": {
     "end_time": "2023-11-29T04:01:02.028816Z",
     "start_time": "2023-11-29T04:01:01.098755Z"
    }
   }
  },
  {
   "cell_type": "code",
   "execution_count": 12,
   "outputs": [
    {
     "data": {
      "text/plain": "                                                     name  \\\n0       /local_disk/arges/jduret/corpus/voxceleb1/dev/...   \n1       /local_disk/arges/jduret/corpus/voxceleb1/dev/...   \n2       /local_disk/arges/jduret/corpus/voxceleb1/dev/...   \n3       /local_disk/arges/jduret/corpus/voxceleb1/dev/...   \n4       /local_disk/arges/jduret/corpus/voxceleb1/dev/...   \n...                                                   ...   \n153511  /local_disk/arges/jduret/corpus/voxceleb1/dev/...   \n153512  /local_disk/arges/jduret/corpus/voxceleb1/dev/...   \n153513  /local_disk/arges/jduret/corpus/voxceleb1/dev/...   \n153514  /local_disk/arges/jduret/corpus/voxceleb1/dev/...   \n153515  /local_disk/arges/jduret/corpus/voxceleb1/dev/...   \n\n        F0semitoneFrom27.5Hz_sma3nz_amean  \\\n0                               28.092182   \n1                               27.010643   \n2                               26.186111   \n3                               27.494238   \n4                               27.532742   \n...                                   ...   \n153511                          35.983295   \n153512                          35.834940   \n153513                          35.626750   \n153514                          35.601270   \n153515                          37.650562   \n\n        F0semitoneFrom27.5Hz_sma3nz_stddevNorm  \\\n0                                     0.061502   \n1                                     0.060816   \n2                                     0.070707   \n3                                     0.095222   \n4                                     0.136942   \n...                                        ...   \n153511                                0.079570   \n153512                                0.071941   \n153513                                0.097107   \n153514                                0.094351   \n153515                                0.071268   \n\n        F0semitoneFrom27.5Hz_sma3nz_percentile20.0  \\\n0                                        26.984283   \n1                                        25.892637   \n2                                        24.654234   \n3                                        25.322489   \n4                                        24.791954   \n...                                            ...   \n153511                                   35.261246   \n153512                                   34.103096   \n153513                                   34.519497   \n153514                                   34.675518   \n153515                                   36.116264   \n\n        F0semitoneFrom27.5Hz_sma3nz_percentile50.0  \\\n0                                        27.878792   \n1                                        26.687866   \n2                                        26.461887   \n3                                        27.320807   \n4                                        26.543228   \n...                                            ...   \n153511                                   36.059746   \n153512                                   35.820920   \n153513                                   36.001860   \n153514                                   35.890700   \n153515                                   37.267452   \n\n        F0semitoneFrom27.5Hz_sma3nz_percentile80.0  \\\n0                                        28.929113   \n1                                        28.496979   \n2                                        27.661386   \n3                                        29.987375   \n4                                        30.337467   \n...                                            ...   \n153511                                   37.383686   \n153512                                   38.033993   \n153513                                   37.658546   \n153514                                   37.325825   \n153515                                   38.921696   \n\n        F0semitoneFrom27.5Hz_sma3nz_pctlrange0-2  \\\n0                                       1.944830   \n1                                       2.604341   \n2                                       3.007153   \n3                                       4.664886   \n4                                       5.545513   \n...                                          ...   \n153511                                  2.122440   \n153512                                  3.930897   \n153513                                  3.139050   \n153514                                  2.650307   \n153515                                  2.805431   \n\n        F0semitoneFrom27.5Hz_sma3nz_meanRisingSlope  \\\n0                                        105.241852   \n1                                        116.249120   \n2                                        138.503590   \n3                                        152.163700   \n4                                         32.876427   \n...                                             ...   \n153511                                   100.465480   \n153512                                    43.523434   \n153513                                   589.591250   \n153514                                   230.316910   \n153515                                    49.253586   \n\n        F0semitoneFrom27.5Hz_sma3nz_stddevRisingSlope  \\\n0                                          112.295776   \n1                                          262.780430   \n2                                          150.486820   \n3                                          185.322500   \n4                                           22.981077   \n...                                               ...   \n153511                                     111.612870   \n153512                                      29.977058   \n153513                                     656.120100   \n153514                                     369.327940   \n153515                                      69.904710   \n\n        F0semitoneFrom27.5Hz_sma3nz_meanFallingSlope  ...  \\\n0                                          19.984245  ...   \n1                                          14.721849  ...   \n2                                          21.725597  ...   \n3                                          22.155361  ...   \n4                                          20.236912  ...   \n...                                              ...  ...   \n153511                                     39.786926  ...   \n153512                                     23.850680  ...   \n153513                                     38.031950  ...   \n153514                                    106.101290  ...   \n153515                                     46.053300  ...   \n\n        slopeUV0-500_sma3nz_amean  slopeUV500-1500_sma3nz_amean  \\\n0                        0.034317                     -0.012570   \n1                        0.031585                     -0.012621   \n2                        0.021272                     -0.009637   \n3                        0.010894                      0.002566   \n4                        0.013177                     -0.002150   \n...                           ...                           ...   \n153511                   0.016626                     -0.003108   \n153512                   0.015389                     -0.000337   \n153513                   0.015281                     -0.003239   \n153514                   0.016454                     -0.004991   \n153515                   0.021290                     -0.009509   \n\n        spectralFluxUV_sma3nz_amean  loudnessPeaksPerSec  \\\n0                          0.370522             5.178792   \n1                          0.323391             4.561403   \n2                          0.365133             5.187836   \n3                          0.137623             5.098494   \n4                          0.146955             4.537815   \n...                             ...                  ...   \n153511                     0.099633             4.477612   \n153512                     0.076410             3.748327   \n153513                     0.069800             3.525047   \n153514                     0.081630             3.828941   \n153515                     0.109392             4.783599   \n\n        VoicedSegmentsPerSec  MeanVoicedSegmentLengthSec  \\\n0                   3.473946                    0.163571   \n1                   2.237927                    0.319474   \n2                   3.429603                    0.166316   \n3                   2.917153                    0.187200   \n4                   3.565365                    0.167619   \n...                      ...                         ...   \n153511              3.691275                    0.151818   \n153512              2.560647                    0.185263   \n153513              2.808989                    0.196667   \n153514              2.642074                    0.227547   \n153515              3.695150                    0.151250   \n\n        StddevVoicedSegmentLengthSec  MeanUnvoicedSegmentLength  \\\n0                           0.134887                   0.103571   \n1                           0.322906                   0.120000   \n2                           0.108977                   0.104211   \n3                           0.116534                   0.141667   \n4                           0.128319                   0.098000   \n...                              ...                        ...   \n153511                      0.126046                   0.125294   \n153512                      0.097677                   0.184211   \n153513                      0.103966                   0.148571   \n153514                      0.183065                   0.140408   \n153515                      0.109137                   0.106667   \n\n        StddevUnvoicedSegmentLength  equivalentSoundLevel_dBp  \n0                          0.084440                -21.141186  \n1                          0.082248                -19.915205  \n2                          0.068080                -21.199615  \n3                          0.136646                -27.372116  \n4                          0.052593                -27.439383  \n...                             ...                       ...  \n153511                     0.112151                -30.256577  \n153512                     0.180622                -31.595581  \n153513                     0.129110                -31.728613  \n153514                     0.110120                -31.206898  \n153515                     0.064256                -30.089382  \n\n[153516 rows x 89 columns]",
      "text/html": "<div>\n<style scoped>\n    .dataframe tbody tr th:only-of-type {\n        vertical-align: middle;\n    }\n\n    .dataframe tbody tr th {\n        vertical-align: top;\n    }\n\n    .dataframe thead th {\n        text-align: right;\n    }\n</style>\n<table border=\"1\" class=\"dataframe\">\n  <thead>\n    <tr style=\"text-align: right;\">\n      <th></th>\n      <th>name</th>\n      <th>F0semitoneFrom27.5Hz_sma3nz_amean</th>\n      <th>F0semitoneFrom27.5Hz_sma3nz_stddevNorm</th>\n      <th>F0semitoneFrom27.5Hz_sma3nz_percentile20.0</th>\n      <th>F0semitoneFrom27.5Hz_sma3nz_percentile50.0</th>\n      <th>F0semitoneFrom27.5Hz_sma3nz_percentile80.0</th>\n      <th>F0semitoneFrom27.5Hz_sma3nz_pctlrange0-2</th>\n      <th>F0semitoneFrom27.5Hz_sma3nz_meanRisingSlope</th>\n      <th>F0semitoneFrom27.5Hz_sma3nz_stddevRisingSlope</th>\n      <th>F0semitoneFrom27.5Hz_sma3nz_meanFallingSlope</th>\n      <th>...</th>\n      <th>slopeUV0-500_sma3nz_amean</th>\n      <th>slopeUV500-1500_sma3nz_amean</th>\n      <th>spectralFluxUV_sma3nz_amean</th>\n      <th>loudnessPeaksPerSec</th>\n      <th>VoicedSegmentsPerSec</th>\n      <th>MeanVoicedSegmentLengthSec</th>\n      <th>StddevVoicedSegmentLengthSec</th>\n      <th>MeanUnvoicedSegmentLength</th>\n      <th>StddevUnvoicedSegmentLength</th>\n      <th>equivalentSoundLevel_dBp</th>\n    </tr>\n  </thead>\n  <tbody>\n    <tr>\n      <th>0</th>\n      <td>/local_disk/arges/jduret/corpus/voxceleb1/dev/...</td>\n      <td>28.092182</td>\n      <td>0.061502</td>\n      <td>26.984283</td>\n      <td>27.878792</td>\n      <td>28.929113</td>\n      <td>1.944830</td>\n      <td>105.241852</td>\n      <td>112.295776</td>\n      <td>19.984245</td>\n      <td>...</td>\n      <td>0.034317</td>\n      <td>-0.012570</td>\n      <td>0.370522</td>\n      <td>5.178792</td>\n      <td>3.473946</td>\n      <td>0.163571</td>\n      <td>0.134887</td>\n      <td>0.103571</td>\n      <td>0.084440</td>\n      <td>-21.141186</td>\n    </tr>\n    <tr>\n      <th>1</th>\n      <td>/local_disk/arges/jduret/corpus/voxceleb1/dev/...</td>\n      <td>27.010643</td>\n      <td>0.060816</td>\n      <td>25.892637</td>\n      <td>26.687866</td>\n      <td>28.496979</td>\n      <td>2.604341</td>\n      <td>116.249120</td>\n      <td>262.780430</td>\n      <td>14.721849</td>\n      <td>...</td>\n      <td>0.031585</td>\n      <td>-0.012621</td>\n      <td>0.323391</td>\n      <td>4.561403</td>\n      <td>2.237927</td>\n      <td>0.319474</td>\n      <td>0.322906</td>\n      <td>0.120000</td>\n      <td>0.082248</td>\n      <td>-19.915205</td>\n    </tr>\n    <tr>\n      <th>2</th>\n      <td>/local_disk/arges/jduret/corpus/voxceleb1/dev/...</td>\n      <td>26.186111</td>\n      <td>0.070707</td>\n      <td>24.654234</td>\n      <td>26.461887</td>\n      <td>27.661386</td>\n      <td>3.007153</td>\n      <td>138.503590</td>\n      <td>150.486820</td>\n      <td>21.725597</td>\n      <td>...</td>\n      <td>0.021272</td>\n      <td>-0.009637</td>\n      <td>0.365133</td>\n      <td>5.187836</td>\n      <td>3.429603</td>\n      <td>0.166316</td>\n      <td>0.108977</td>\n      <td>0.104211</td>\n      <td>0.068080</td>\n      <td>-21.199615</td>\n    </tr>\n    <tr>\n      <th>3</th>\n      <td>/local_disk/arges/jduret/corpus/voxceleb1/dev/...</td>\n      <td>27.494238</td>\n      <td>0.095222</td>\n      <td>25.322489</td>\n      <td>27.320807</td>\n      <td>29.987375</td>\n      <td>4.664886</td>\n      <td>152.163700</td>\n      <td>185.322500</td>\n      <td>22.155361</td>\n      <td>...</td>\n      <td>0.010894</td>\n      <td>0.002566</td>\n      <td>0.137623</td>\n      <td>5.098494</td>\n      <td>2.917153</td>\n      <td>0.187200</td>\n      <td>0.116534</td>\n      <td>0.141667</td>\n      <td>0.136646</td>\n      <td>-27.372116</td>\n    </tr>\n    <tr>\n      <th>4</th>\n      <td>/local_disk/arges/jduret/corpus/voxceleb1/dev/...</td>\n      <td>27.532742</td>\n      <td>0.136942</td>\n      <td>24.791954</td>\n      <td>26.543228</td>\n      <td>30.337467</td>\n      <td>5.545513</td>\n      <td>32.876427</td>\n      <td>22.981077</td>\n      <td>20.236912</td>\n      <td>...</td>\n      <td>0.013177</td>\n      <td>-0.002150</td>\n      <td>0.146955</td>\n      <td>4.537815</td>\n      <td>3.565365</td>\n      <td>0.167619</td>\n      <td>0.128319</td>\n      <td>0.098000</td>\n      <td>0.052593</td>\n      <td>-27.439383</td>\n    </tr>\n    <tr>\n      <th>...</th>\n      <td>...</td>\n      <td>...</td>\n      <td>...</td>\n      <td>...</td>\n      <td>...</td>\n      <td>...</td>\n      <td>...</td>\n      <td>...</td>\n      <td>...</td>\n      <td>...</td>\n      <td>...</td>\n      <td>...</td>\n      <td>...</td>\n      <td>...</td>\n      <td>...</td>\n      <td>...</td>\n      <td>...</td>\n      <td>...</td>\n      <td>...</td>\n      <td>...</td>\n      <td>...</td>\n    </tr>\n    <tr>\n      <th>153511</th>\n      <td>/local_disk/arges/jduret/corpus/voxceleb1/dev/...</td>\n      <td>35.983295</td>\n      <td>0.079570</td>\n      <td>35.261246</td>\n      <td>36.059746</td>\n      <td>37.383686</td>\n      <td>2.122440</td>\n      <td>100.465480</td>\n      <td>111.612870</td>\n      <td>39.786926</td>\n      <td>...</td>\n      <td>0.016626</td>\n      <td>-0.003108</td>\n      <td>0.099633</td>\n      <td>4.477612</td>\n      <td>3.691275</td>\n      <td>0.151818</td>\n      <td>0.126046</td>\n      <td>0.125294</td>\n      <td>0.112151</td>\n      <td>-30.256577</td>\n    </tr>\n    <tr>\n      <th>153512</th>\n      <td>/local_disk/arges/jduret/corpus/voxceleb1/dev/...</td>\n      <td>35.834940</td>\n      <td>0.071941</td>\n      <td>34.103096</td>\n      <td>35.820920</td>\n      <td>38.033993</td>\n      <td>3.930897</td>\n      <td>43.523434</td>\n      <td>29.977058</td>\n      <td>23.850680</td>\n      <td>...</td>\n      <td>0.015389</td>\n      <td>-0.000337</td>\n      <td>0.076410</td>\n      <td>3.748327</td>\n      <td>2.560647</td>\n      <td>0.185263</td>\n      <td>0.097677</td>\n      <td>0.184211</td>\n      <td>0.180622</td>\n      <td>-31.595581</td>\n    </tr>\n    <tr>\n      <th>153513</th>\n      <td>/local_disk/arges/jduret/corpus/voxceleb1/dev/...</td>\n      <td>35.626750</td>\n      <td>0.097107</td>\n      <td>34.519497</td>\n      <td>36.001860</td>\n      <td>37.658546</td>\n      <td>3.139050</td>\n      <td>589.591250</td>\n      <td>656.120100</td>\n      <td>38.031950</td>\n      <td>...</td>\n      <td>0.015281</td>\n      <td>-0.003239</td>\n      <td>0.069800</td>\n      <td>3.525047</td>\n      <td>2.808989</td>\n      <td>0.196667</td>\n      <td>0.103966</td>\n      <td>0.148571</td>\n      <td>0.129110</td>\n      <td>-31.728613</td>\n    </tr>\n    <tr>\n      <th>153514</th>\n      <td>/local_disk/arges/jduret/corpus/voxceleb1/dev/...</td>\n      <td>35.601270</td>\n      <td>0.094351</td>\n      <td>34.675518</td>\n      <td>35.890700</td>\n      <td>37.325825</td>\n      <td>2.650307</td>\n      <td>230.316910</td>\n      <td>369.327940</td>\n      <td>106.101290</td>\n      <td>...</td>\n      <td>0.016454</td>\n      <td>-0.004991</td>\n      <td>0.081630</td>\n      <td>3.828941</td>\n      <td>2.642074</td>\n      <td>0.227547</td>\n      <td>0.183065</td>\n      <td>0.140408</td>\n      <td>0.110120</td>\n      <td>-31.206898</td>\n    </tr>\n    <tr>\n      <th>153515</th>\n      <td>/local_disk/arges/jduret/corpus/voxceleb1/dev/...</td>\n      <td>37.650562</td>\n      <td>0.071268</td>\n      <td>36.116264</td>\n      <td>37.267452</td>\n      <td>38.921696</td>\n      <td>2.805431</td>\n      <td>49.253586</td>\n      <td>69.904710</td>\n      <td>46.053300</td>\n      <td>...</td>\n      <td>0.021290</td>\n      <td>-0.009509</td>\n      <td>0.109392</td>\n      <td>4.783599</td>\n      <td>3.695150</td>\n      <td>0.151250</td>\n      <td>0.109137</td>\n      <td>0.106667</td>\n      <td>0.064256</td>\n      <td>-30.089382</td>\n    </tr>\n  </tbody>\n</table>\n<p>153516 rows × 89 columns</p>\n</div>"
     },
     "execution_count": 12,
     "metadata": {},
     "output_type": "execute_result"
    }
   ],
   "source": [
    "df"
   ],
   "metadata": {
    "collapsed": false,
    "ExecuteTime": {
     "end_time": "2023-11-29T04:01:02.061846Z",
     "start_time": "2023-11-29T04:01:02.029772Z"
    }
   }
  },
  {
   "cell_type": "code",
   "execution_count": 19,
   "outputs": [],
   "source": [
    "attribute_names = df.columns[1:].tolist()"
   ],
   "metadata": {
    "collapsed": false,
    "ExecuteTime": {
     "end_time": "2023-11-29T04:20:08.685969Z",
     "start_time": "2023-11-29T04:20:08.684843Z"
    }
   }
  },
  {
   "cell_type": "code",
   "execution_count": 21,
   "outputs": [
    {
     "data": {
      "text/plain": "['F0semitoneFrom27.5Hz_sma3nz_amean',\n 'F0semitoneFrom27.5Hz_sma3nz_stddevNorm',\n 'F0semitoneFrom27.5Hz_sma3nz_percentile20.0',\n 'F0semitoneFrom27.5Hz_sma3nz_percentile50.0',\n 'F0semitoneFrom27.5Hz_sma3nz_percentile80.0',\n 'F0semitoneFrom27.5Hz_sma3nz_pctlrange0-2',\n 'F0semitoneFrom27.5Hz_sma3nz_meanRisingSlope',\n 'F0semitoneFrom27.5Hz_sma3nz_stddevRisingSlope',\n 'F0semitoneFrom27.5Hz_sma3nz_meanFallingSlope',\n 'F0semitoneFrom27.5Hz_sma3nz_stddevFallingSlope',\n 'loudness_sma3_amean',\n 'loudness_sma3_stddevNorm',\n 'loudness_sma3_percentile20.0',\n 'loudness_sma3_percentile50.0',\n 'loudness_sma3_percentile80.0',\n 'loudness_sma3_pctlrange0-2',\n 'loudness_sma3_meanRisingSlope',\n 'loudness_sma3_stddevRisingSlope',\n 'loudness_sma3_meanFallingSlope',\n 'loudness_sma3_stddevFallingSlope',\n 'spectralFlux_sma3_amean',\n 'spectralFlux_sma3_stddevNorm',\n 'mfcc1_sma3_amean',\n 'mfcc1_sma3_stddevNorm',\n 'mfcc2_sma3_amean',\n 'mfcc2_sma3_stddevNorm',\n 'mfcc3_sma3_amean',\n 'mfcc3_sma3_stddevNorm',\n 'mfcc4_sma3_amean',\n 'mfcc4_sma3_stddevNorm',\n 'jitterLocal_sma3nz_amean',\n 'jitterLocal_sma3nz_stddevNorm',\n 'shimmerLocaldB_sma3nz_amean',\n 'shimmerLocaldB_sma3nz_stddevNorm',\n 'HNRdBACF_sma3nz_amean',\n 'HNRdBACF_sma3nz_stddevNorm',\n 'logRelF0-H1-H2_sma3nz_amean',\n 'logRelF0-H1-H2_sma3nz_stddevNorm',\n 'logRelF0-H1-A3_sma3nz_amean',\n 'logRelF0-H1-A3_sma3nz_stddevNorm',\n 'F1frequency_sma3nz_amean',\n 'F1frequency_sma3nz_stddevNorm',\n 'F1bandwidth_sma3nz_amean',\n 'F1bandwidth_sma3nz_stddevNorm',\n 'F1amplitudeLogRelF0_sma3nz_amean',\n 'F1amplitudeLogRelF0_sma3nz_stddevNorm',\n 'F2frequency_sma3nz_amean',\n 'F2frequency_sma3nz_stddevNorm',\n 'F2bandwidth_sma3nz_amean',\n 'F2bandwidth_sma3nz_stddevNorm',\n 'F2amplitudeLogRelF0_sma3nz_amean',\n 'F2amplitudeLogRelF0_sma3nz_stddevNorm',\n 'F3frequency_sma3nz_amean',\n 'F3frequency_sma3nz_stddevNorm',\n 'F3bandwidth_sma3nz_amean',\n 'F3bandwidth_sma3nz_stddevNorm',\n 'F3amplitudeLogRelF0_sma3nz_amean',\n 'F3amplitudeLogRelF0_sma3nz_stddevNorm',\n 'alphaRatioV_sma3nz_amean',\n 'alphaRatioV_sma3nz_stddevNorm',\n 'hammarbergIndexV_sma3nz_amean',\n 'hammarbergIndexV_sma3nz_stddevNorm',\n 'slopeV0-500_sma3nz_amean',\n 'slopeV0-500_sma3nz_stddevNorm',\n 'slopeV500-1500_sma3nz_amean',\n 'slopeV500-1500_sma3nz_stddevNorm',\n 'spectralFluxV_sma3nz_amean',\n 'spectralFluxV_sma3nz_stddevNorm',\n 'mfcc1V_sma3nz_amean',\n 'mfcc1V_sma3nz_stddevNorm',\n 'mfcc2V_sma3nz_amean',\n 'mfcc2V_sma3nz_stddevNorm',\n 'mfcc3V_sma3nz_amean',\n 'mfcc3V_sma3nz_stddevNorm',\n 'mfcc4V_sma3nz_amean',\n 'mfcc4V_sma3nz_stddevNorm',\n 'alphaRatioUV_sma3nz_amean',\n 'hammarbergIndexUV_sma3nz_amean',\n 'slopeUV0-500_sma3nz_amean',\n 'slopeUV500-1500_sma3nz_amean',\n 'spectralFluxUV_sma3nz_amean',\n 'loudnessPeaksPerSec',\n 'VoicedSegmentsPerSec',\n 'MeanVoicedSegmentLengthSec',\n 'StddevVoicedSegmentLengthSec',\n 'MeanUnvoicedSegmentLength',\n 'StddevUnvoicedSegmentLength',\n 'equivalentSoundLevel_dBp']"
     },
     "execution_count": 21,
     "metadata": {},
     "output_type": "execute_result"
    }
   ],
   "source": [
    "attribute_names"
   ],
   "metadata": {
    "collapsed": false,
    "ExecuteTime": {
     "end_time": "2023-11-29T04:20:27.468839Z",
     "start_time": "2023-11-29T04:20:27.465424Z"
    }
   }
  },
  {
   "cell_type": "code",
   "execution_count": 20,
   "outputs": [
    {
     "data": {
      "text/plain": "88"
     },
     "execution_count": 20,
     "metadata": {},
     "output_type": "execute_result"
    }
   ],
   "source": [
    "len(attribute_names)"
   ],
   "metadata": {
    "collapsed": false,
    "ExecuteTime": {
     "end_time": "2023-11-29T04:20:17.582566Z",
     "start_time": "2023-11-29T04:20:17.578955Z"
    }
   }
  },
  {
   "cell_type": "code",
   "execution_count": 17,
   "outputs": [
    {
     "data": {
      "text/plain": "array(['/local_disk/arges/jduret/corpus/voxceleb1/dev/wav/id10001/1zcIwhmdeo4/00001.wav',\n       '/local_disk/arges/jduret/corpus/voxceleb1/dev/wav/id10001/1zcIwhmdeo4/00002.wav',\n       '/local_disk/arges/jduret/corpus/voxceleb1/dev/wav/id10001/1zcIwhmdeo4/00003.wav',\n       '/local_disk/arges/jduret/corpus/voxceleb1/dev/wav/id10001/7gWzIy6yIIk/00001.wav',\n       '/local_disk/arges/jduret/corpus/voxceleb1/dev/wav/id10001/7gWzIy6yIIk/00002.wav'],\n      dtype=object)"
     },
     "execution_count": 17,
     "metadata": {},
     "output_type": "execute_result"
    }
   ],
   "source": [
    "df.head(5)['name'].values"
   ],
   "metadata": {
    "collapsed": false,
    "ExecuteTime": {
     "end_time": "2023-11-29T04:07:24.303343Z",
     "start_time": "2023-11-29T04:07:24.302234Z"
    }
   }
  },
  {
   "cell_type": "code",
   "execution_count": 18,
   "outputs": [
    {
     "data": {
      "text/plain": "array(['/local_disk/arges/jduret/corpus/voxceleb1/dev/wav/id11251/s4R4hvqrhFw/00005.wav',\n       '/local_disk/arges/jduret/corpus/voxceleb1/dev/wav/id11251/s4R4hvqrhFw/00006.wav',\n       '/local_disk/arges/jduret/corpus/voxceleb1/dev/wav/id11251/s4R4hvqrhFw/00007.wav',\n       '/local_disk/arges/jduret/corpus/voxceleb1/dev/wav/id11251/s4R4hvqrhFw/00008.wav',\n       '/local_disk/arges/jduret/corpus/voxceleb1/dev/wav/id11251/s4R4hvqrhFw/00009.wav'],\n      dtype=object)"
     },
     "execution_count": 18,
     "metadata": {},
     "output_type": "execute_result"
    }
   ],
   "source": [
    "df.tail(5)['name'].values"
   ],
   "metadata": {
    "collapsed": false,
    "ExecuteTime": {
     "end_time": "2023-11-29T04:07:40.128193Z",
     "start_time": "2023-11-29T04:07:40.125340Z"
    }
   }
  },
  {
   "cell_type": "code",
   "execution_count": null,
   "outputs": [],
   "source": [],
   "metadata": {
    "collapsed": false
   }
  }
 ],
 "metadata": {
  "kernelspec": {
   "display_name": "Python 3",
   "language": "python",
   "name": "python3"
  },
  "language_info": {
   "codemirror_mode": {
    "name": "ipython",
    "version": 2
   },
   "file_extension": ".py",
   "mimetype": "text/x-python",
   "name": "python",
   "nbconvert_exporter": "python",
   "pygments_lexer": "ipython2",
   "version": "2.7.6"
  }
 },
 "nbformat": 4,
 "nbformat_minor": 0
}
